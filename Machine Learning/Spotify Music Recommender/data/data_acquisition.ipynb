{
 "cells": [
  {
   "cell_type": "code",
   "execution_count": 2,
   "metadata": {},
   "outputs": [],
   "source": [
    "import pandas\n",
    "import requests\n",
    "import json"
   ]
  },
  {
   "cell_type": "code",
   "execution_count": 4,
   "metadata": {},
   "outputs": [],
   "source": [
    "TOKEN = \"YOUR-TOKEN-HERE\"\" "
   ]
  },
  {
   "cell_type": "code",
   "execution_count": 51,
   "metadata": {},
   "outputs": [],
   "source": [
    "def get_playlist_tracks(playlist_id, sample, TOKEN):\n",
    "    \"\"\"\n",
    "    Returns a list of tracks from a playlist\n",
    "    \"\"\"\n",
    "    url = \"https://api.spotify.com/v1/playlists/\"+playlist_id\n",
    "    headers = {\"Accept\": \"application/json\", \"Content-Type\": \"application/json\" ,'Authorization': \"Bearer {}\".format(TOKEN)}\n",
    "    r = requests.get(url, headers=headers)\n",
    "    r = r.json()\n",
    "\n",
    "    response_df = pandas.json_normalize(r['tracks'][\"items\"])\n",
    "    response_df.shape\n",
    "\n",
    "    requested_tracks = \"\"\n",
    "\n",
    "    for i in response_df.sample(sample)['track.id'].to_list():\n",
    "        requested_tracks += i + \",\"\n",
    "\n",
    "    return requested_tracks"
   ]
  },
  {
   "cell_type": "code",
   "execution_count": 52,
   "metadata": {},
   "outputs": [],
   "source": [
    "def get_audio_features(track_id_list, TOKEN):\n",
    "    \"\"\"\n",
    "    Returns a list of audio features for a list of tracks\n",
    "    \"\"\"\n",
    "\n",
    "    url = \"https://api.spotify.com/v1/audio-features/?ids=\" + track_id_list\n",
    "    headers = {\"Accept\": \"application/json\", \"Content-Type\": \"application/json\" ,'Authorization': \"Bearer {}\".format(TOKEN)}\n",
    "    r = requests.get(url, headers=headers)\n",
    "    r = r.json()\n",
    "    response_df = pandas.json_normalize(r['audio_features'])\n",
    "    return response_df"
   ]
  },
  {
   "cell_type": "code",
   "execution_count": 54,
   "metadata": {},
   "outputs": [],
   "source": [
    "# number tracks to get\n",
    "sample = 100\n",
    "\n",
    "# playlist id\n",
    "playlist_id = \"YOUR-PLAYLIST-ID-HERE\"\n",
    "\n",
    "# get tracks from playlist\n",
    "req_tracks = get_playlist_tracks(playlist_id, sample, TOKEN)\n",
    "# get audio features for tracks\n",
    "mix = get_audio_features(req_tracks, TOKEN)"
   ]
  }
 ],
 "metadata": {
  "kernelspec": {
   "display_name": "Python 3",
   "language": "python",
   "name": "python3"
  },
  "language_info": {
   "codemirror_mode": {
    "name": "ipython",
    "version": 3
   },
   "file_extension": ".py",
   "mimetype": "text/x-python",
   "name": "python",
   "nbconvert_exporter": "python",
   "pygments_lexer": "ipython3",
   "version": "3.9.1"
  }
 },
 "nbformat": 4,
 "nbformat_minor": 4
}

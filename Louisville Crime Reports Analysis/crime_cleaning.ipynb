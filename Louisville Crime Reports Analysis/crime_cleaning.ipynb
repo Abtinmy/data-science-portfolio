{
 "cells": [
  {
   "cell_type": "code",
   "execution_count": 50,
   "metadata": {},
   "outputs": [],
   "source": [
    "import pandas as pd\n",
    "import matplotlib.pyplot as plt\n",
    "import numpy as np"
   ]
  },
  {
   "cell_type": "code",
   "execution_count": 2,
   "metadata": {},
   "outputs": [
    {
     "name": "stderr",
     "output_type": "stream",
     "text": [
      "C:\\Users\\LENOVO\\AppData\\Local\\Programs\\Python\\Python39\\lib\\site-packages\\IPython\\core\\interactiveshell.py:3441: DtypeWarning: Columns (13) have mixed types.Specify dtype option on import or set low_memory=False.\n",
      "  exec(code_obj, self.user_global_ns, self.user_ns)\n"
     ]
    }
   ],
   "source": [
    "df_2014 = pd.read_csv(\"Crime_Data_2014.csv\")\n",
    "df_2015 = pd.read_csv(\"Crime_Data_2015.csv\")\n",
    "df_2016 = pd.read_csv(\"Crime_Data_2016.csv\")\n",
    "df_2017 = pd.read_csv(\"Crime_Data_2017.csv\")\n",
    "df_2018 = pd.read_csv(\"Crime_Data_2018.csv\")"
   ]
  },
  {
   "cell_type": "code",
   "execution_count": 3,
   "metadata": {},
   "outputs": [
    {
     "data": {
      "text/html": [
       "<div>\n",
       "<style scoped>\n",
       "    .dataframe tbody tr th:only-of-type {\n",
       "        vertical-align: middle;\n",
       "    }\n",
       "\n",
       "    .dataframe tbody tr th {\n",
       "        vertical-align: top;\n",
       "    }\n",
       "\n",
       "    .dataframe thead th {\n",
       "        text-align: right;\n",
       "    }\n",
       "</style>\n",
       "<table border=\"1\" class=\"dataframe\">\n",
       "  <thead>\n",
       "    <tr style=\"text-align: right;\">\n",
       "      <th></th>\n",
       "      <th>INCIDENT_NUMBER</th>\n",
       "      <th>DATE_REPORTED</th>\n",
       "      <th>DATE_OCCURED</th>\n",
       "      <th>UOR_DESC</th>\n",
       "      <th>CRIME_TYPE</th>\n",
       "      <th>NIBRS_CODE</th>\n",
       "      <th>UCR_HIERARCHY</th>\n",
       "      <th>ATT_COMP</th>\n",
       "      <th>LMPD_DIVISION</th>\n",
       "      <th>LMPD_BEAT</th>\n",
       "      <th>PREMISE_TYPE</th>\n",
       "      <th>BLOCK_ADDRESS</th>\n",
       "      <th>CITY</th>\n",
       "      <th>ZIP_CODE</th>\n",
       "      <th>ID</th>\n",
       "    </tr>\n",
       "  </thead>\n",
       "  <tbody>\n",
       "    <tr>\n",
       "      <th>0</th>\n",
       "      <td>80-14-051793</td>\n",
       "      <td>2014-07-13 12:23:00</td>\n",
       "      <td>2014-07-13 10:30:00</td>\n",
       "      <td>RECEIVING STOLEN PROPERTY (FIREARM)</td>\n",
       "      <td>THEFT/LARCENY</td>\n",
       "      <td>280</td>\n",
       "      <td>PART II</td>\n",
       "      <td>COMPLETED</td>\n",
       "      <td>6TH DIVISION</td>\n",
       "      <td>612</td>\n",
       "      <td>RESIDENCE / HOME</td>\n",
       "      <td>1100 BLOCK LORETTA ST                         ...</td>\n",
       "      <td>LOUISVILLE</td>\n",
       "      <td>40213.0</td>\n",
       "      <td>9287</td>\n",
       "    </tr>\n",
       "    <tr>\n",
       "      <th>1</th>\n",
       "      <td>80-14-088221</td>\n",
       "      <td>2014-11-15 04:08:06</td>\n",
       "      <td>2014-11-10 11:00:00</td>\n",
       "      <td>RECEIVING STOLEN PROPERTY (FIREARM)</td>\n",
       "      <td>THEFT/LARCENY</td>\n",
       "      <td>280</td>\n",
       "      <td>PART II</td>\n",
       "      <td>COMPLETED</td>\n",
       "      <td>5TH DIVISION</td>\n",
       "      <td>513</td>\n",
       "      <td>HIGHWAY / ROAD / ALLEY</td>\n",
       "      <td>1500 BLOCK BARDSTOWN RD                       ...</td>\n",
       "      <td>LOUISVILLE</td>\n",
       "      <td>40205.0</td>\n",
       "      <td>13707</td>\n",
       "    </tr>\n",
       "    <tr>\n",
       "      <th>2</th>\n",
       "      <td>80-14-045881</td>\n",
       "      <td>2014-06-23 06:45:00</td>\n",
       "      <td>2014-06-22 21:00:00</td>\n",
       "      <td>RECEIVING STOLEN PROPERTY (FIREARM)</td>\n",
       "      <td>THEFT/LARCENY</td>\n",
       "      <td>280</td>\n",
       "      <td>PART II</td>\n",
       "      <td>COMPLETED</td>\n",
       "      <td>7TH DIVISION</td>\n",
       "      <td>711</td>\n",
       "      <td>HIGHWAY / ROAD / ALLEY</td>\n",
       "      <td>4100 BLOCK WILLOWVIEW BLVD                    ...</td>\n",
       "      <td>LOUISVILLE</td>\n",
       "      <td>40299.0</td>\n",
       "      <td>16242</td>\n",
       "    </tr>\n",
       "    <tr>\n",
       "      <th>3</th>\n",
       "      <td>80-14-005112</td>\n",
       "      <td>2014-01-20 23:55:00</td>\n",
       "      <td>2014-01-20 18:30:00</td>\n",
       "      <td>RECEIVING STOLEN PROPERTY (FIREARM)</td>\n",
       "      <td>THEFT/LARCENY</td>\n",
       "      <td>280</td>\n",
       "      <td>PART II</td>\n",
       "      <td>COMPLETED</td>\n",
       "      <td>5TH DIVISION</td>\n",
       "      <td>514</td>\n",
       "      <td>RESIDENCE / HOME</td>\n",
       "      <td>6100 BLOCK DUTCHMANS LN                       ...</td>\n",
       "      <td>LOUISVILLE</td>\n",
       "      <td>40205.0</td>\n",
       "      <td>47050</td>\n",
       "    </tr>\n",
       "    <tr>\n",
       "      <th>4</th>\n",
       "      <td>80-14-087204</td>\n",
       "      <td>2014-11-11 21:18:03</td>\n",
       "      <td>2014-11-07 23:59:00</td>\n",
       "      <td>RECEIVING STOLEN PROPERTY U/$10,000</td>\n",
       "      <td>THEFT/LARCENY</td>\n",
       "      <td>280</td>\n",
       "      <td>PART II</td>\n",
       "      <td>COMPLETED</td>\n",
       "      <td>7TH DIVISION</td>\n",
       "      <td>736</td>\n",
       "      <td>RESIDENCE / HOME</td>\n",
       "      <td>@I65S TO OKOLONA EXIT                         ...</td>\n",
       "      <td>LOUISVILLE</td>\n",
       "      <td>40219.0</td>\n",
       "      <td>294016</td>\n",
       "    </tr>\n",
       "  </tbody>\n",
       "</table>\n",
       "</div>"
      ],
      "text/plain": [
       "  INCIDENT_NUMBER        DATE_REPORTED         DATE_OCCURED  \\\n",
       "0    80-14-051793  2014-07-13 12:23:00  2014-07-13 10:30:00   \n",
       "1    80-14-088221  2014-11-15 04:08:06  2014-11-10 11:00:00   \n",
       "2    80-14-045881  2014-06-23 06:45:00  2014-06-22 21:00:00   \n",
       "3    80-14-005112  2014-01-20 23:55:00  2014-01-20 18:30:00   \n",
       "4    80-14-087204  2014-11-11 21:18:03  2014-11-07 23:59:00   \n",
       "\n",
       "                              UOR_DESC     CRIME_TYPE NIBRS_CODE  \\\n",
       "0  RECEIVING STOLEN PROPERTY (FIREARM)  THEFT/LARCENY        280   \n",
       "1  RECEIVING STOLEN PROPERTY (FIREARM)  THEFT/LARCENY        280   \n",
       "2  RECEIVING STOLEN PROPERTY (FIREARM)  THEFT/LARCENY        280   \n",
       "3  RECEIVING STOLEN PROPERTY (FIREARM)  THEFT/LARCENY        280   \n",
       "4  RECEIVING STOLEN PROPERTY U/$10,000  THEFT/LARCENY        280   \n",
       "\n",
       "  UCR_HIERARCHY   ATT_COMP LMPD_DIVISION LMPD_BEAT            PREMISE_TYPE  \\\n",
       "0       PART II  COMPLETED  6TH DIVISION       612        RESIDENCE / HOME   \n",
       "1       PART II  COMPLETED  5TH DIVISION       513  HIGHWAY / ROAD / ALLEY   \n",
       "2       PART II  COMPLETED  7TH DIVISION       711  HIGHWAY / ROAD / ALLEY   \n",
       "3       PART II  COMPLETED  5TH DIVISION       514        RESIDENCE / HOME   \n",
       "4       PART II  COMPLETED  7TH DIVISION       736        RESIDENCE / HOME   \n",
       "\n",
       "                                       BLOCK_ADDRESS        CITY ZIP_CODE  \\\n",
       "0  1100 BLOCK LORETTA ST                         ...  LOUISVILLE  40213.0   \n",
       "1  1500 BLOCK BARDSTOWN RD                       ...  LOUISVILLE  40205.0   \n",
       "2  4100 BLOCK WILLOWVIEW BLVD                    ...  LOUISVILLE  40299.0   \n",
       "3  6100 BLOCK DUTCHMANS LN                       ...  LOUISVILLE  40205.0   \n",
       "4  @I65S TO OKOLONA EXIT                         ...  LOUISVILLE  40219.0   \n",
       "\n",
       "       ID  \n",
       "0    9287  \n",
       "1   13707  \n",
       "2   16242  \n",
       "3   47050  \n",
       "4  294016  "
      ]
     },
     "execution_count": 3,
     "metadata": {},
     "output_type": "execute_result"
    }
   ],
   "source": [
    "df = pd.concat([df_2014, df_2015, df_2016, df_2017, df_2018], ignore_index=True)\n",
    "df.head()"
   ]
  },
  {
   "cell_type": "code",
   "execution_count": 4,
   "metadata": {},
   "outputs": [
    {
     "data": {
      "text/html": [
       "<div>\n",
       "<style scoped>\n",
       "    .dataframe tbody tr th:only-of-type {\n",
       "        vertical-align: middle;\n",
       "    }\n",
       "\n",
       "    .dataframe tbody tr th {\n",
       "        vertical-align: top;\n",
       "    }\n",
       "\n",
       "    .dataframe thead th {\n",
       "        text-align: right;\n",
       "    }\n",
       "</style>\n",
       "<table border=\"1\" class=\"dataframe\">\n",
       "  <thead>\n",
       "    <tr style=\"text-align: right;\">\n",
       "      <th></th>\n",
       "      <th>INCIDENT_NUMBER</th>\n",
       "      <th>DATE_REPORTED</th>\n",
       "      <th>DATE_OCCURED</th>\n",
       "      <th>UOR_DESC</th>\n",
       "      <th>CRIME_TYPE</th>\n",
       "      <th>NIBRS_CODE</th>\n",
       "      <th>UCR_HIERARCHY</th>\n",
       "      <th>ATT_COMP</th>\n",
       "      <th>LMPD_DIVISION</th>\n",
       "      <th>LMPD_BEAT</th>\n",
       "      <th>PREMISE_TYPE</th>\n",
       "      <th>BLOCK_ADDRESS</th>\n",
       "      <th>CITY</th>\n",
       "      <th>ZIP_CODE</th>\n",
       "      <th>ID</th>\n",
       "    </tr>\n",
       "  </thead>\n",
       "  <tbody>\n",
       "    <tr>\n",
       "      <th>403701</th>\n",
       "      <td>80-18-057236</td>\n",
       "      <td>7/26/2018 20:08</td>\n",
       "      <td>7/26/2018 20:08</td>\n",
       "      <td>TERRORISTIC THREATENING 3RD DEGREE</td>\n",
       "      <td>ASSAULT</td>\n",
       "      <td>13C</td>\n",
       "      <td>PART II</td>\n",
       "      <td>COMPLETED</td>\n",
       "      <td>8TH DIVISION</td>\n",
       "      <td>815</td>\n",
       "      <td>HIGHWAY / ROAD / ALLEY</td>\n",
       "      <td>1600 BLOCK ROOSEVELT AVE                      ...</td>\n",
       "      <td>LOUISVILLE</td>\n",
       "      <td>40242.0</td>\n",
       "      <td>1211593</td>\n",
       "    </tr>\n",
       "    <tr>\n",
       "      <th>403702</th>\n",
       "      <td>80-18-058439</td>\n",
       "      <td>7/31/2018 6:00</td>\n",
       "      <td>7/31/2018 3:00</td>\n",
       "      <td>ASSAULT - 4TH DEGREE (DOMESTIC VIOLENCE) MINOR...</td>\n",
       "      <td>ASSAULT</td>\n",
       "      <td>13B</td>\n",
       "      <td>PART II</td>\n",
       "      <td>COMPLETED</td>\n",
       "      <td>6TH DIVISION</td>\n",
       "      <td>625</td>\n",
       "      <td>RESIDENCE / HOME</td>\n",
       "      <td>2200 BLOCK HEATHER LN                         ...</td>\n",
       "      <td>LOUISVILLE</td>\n",
       "      <td>40218.0</td>\n",
       "      <td>1211594</td>\n",
       "    </tr>\n",
       "    <tr>\n",
       "      <th>403703</th>\n",
       "      <td>80-18-059151</td>\n",
       "      <td>8/2/2018 13:30</td>\n",
       "      <td>8/2/2018 5:30</td>\n",
       "      <td>CRIMINAL MISCHIEF-3RD DEGREE</td>\n",
       "      <td>VANDALISM</td>\n",
       "      <td>290</td>\n",
       "      <td>PART II</td>\n",
       "      <td>COMPLETED</td>\n",
       "      <td>1ST DIVISION</td>\n",
       "      <td>111</td>\n",
       "      <td>HIGHWAY / ROAD / ALLEY</td>\n",
       "      <td>2500 BLOCK PORTLAND AVE                       ...</td>\n",
       "      <td>LOUISVILLE</td>\n",
       "      <td>40212.0</td>\n",
       "      <td>1211595</td>\n",
       "    </tr>\n",
       "    <tr>\n",
       "      <th>403704</th>\n",
       "      <td>80-18-059395</td>\n",
       "      <td>8/3/2018 20:44</td>\n",
       "      <td>7/3/2018 12:00</td>\n",
       "      <td>TBUT OR DISP ALL OTHERS &lt;  $500</td>\n",
       "      <td>THEFT/LARCENY</td>\n",
       "      <td>23H</td>\n",
       "      <td>PART I</td>\n",
       "      <td>COMPLETED</td>\n",
       "      <td>1ST DIVISION</td>\n",
       "      <td>111</td>\n",
       "      <td>PARKING LOT / GARAGE</td>\n",
       "      <td>2100 BLOCK BANK ST                            ...</td>\n",
       "      <td>LOUISVILLE</td>\n",
       "      <td>40212.0</td>\n",
       "      <td>1211596</td>\n",
       "    </tr>\n",
       "    <tr>\n",
       "      <th>403705</th>\n",
       "      <td>80-18-059395</td>\n",
       "      <td>8/3/2018 20:44</td>\n",
       "      <td>7/3/2018 12:00</td>\n",
       "      <td>CRIMINAL POSSESSION FORGED INSTRUMENT-2ND DEGR...</td>\n",
       "      <td>FRAUD</td>\n",
       "      <td>250</td>\n",
       "      <td>PART II</td>\n",
       "      <td>COMPLETED</td>\n",
       "      <td>1ST DIVISION</td>\n",
       "      <td>111</td>\n",
       "      <td>BANK / SAVINGS &amp; LOAN</td>\n",
       "      <td>2100 BLOCK BANK ST                            ...</td>\n",
       "      <td>LOUISVILLE</td>\n",
       "      <td>40212.0</td>\n",
       "      <td>1211597</td>\n",
       "    </tr>\n",
       "  </tbody>\n",
       "</table>\n",
       "</div>"
      ],
      "text/plain": [
       "       INCIDENT_NUMBER    DATE_REPORTED     DATE_OCCURED  \\\n",
       "403701    80-18-057236  7/26/2018 20:08  7/26/2018 20:08   \n",
       "403702    80-18-058439   7/31/2018 6:00   7/31/2018 3:00   \n",
       "403703    80-18-059151   8/2/2018 13:30    8/2/2018 5:30   \n",
       "403704    80-18-059395   8/3/2018 20:44   7/3/2018 12:00   \n",
       "403705    80-18-059395   8/3/2018 20:44   7/3/2018 12:00   \n",
       "\n",
       "                                                 UOR_DESC     CRIME_TYPE  \\\n",
       "403701                 TERRORISTIC THREATENING 3RD DEGREE        ASSAULT   \n",
       "403702  ASSAULT - 4TH DEGREE (DOMESTIC VIOLENCE) MINOR...        ASSAULT   \n",
       "403703                       CRIMINAL MISCHIEF-3RD DEGREE      VANDALISM   \n",
       "403704                    TBUT OR DISP ALL OTHERS <  $500  THEFT/LARCENY   \n",
       "403705  CRIMINAL POSSESSION FORGED INSTRUMENT-2ND DEGR...          FRAUD   \n",
       "\n",
       "       NIBRS_CODE UCR_HIERARCHY   ATT_COMP LMPD_DIVISION LMPD_BEAT  \\\n",
       "403701        13C       PART II  COMPLETED  8TH DIVISION       815   \n",
       "403702        13B       PART II  COMPLETED  6TH DIVISION       625   \n",
       "403703        290       PART II  COMPLETED  1ST DIVISION       111   \n",
       "403704        23H        PART I  COMPLETED  1ST DIVISION       111   \n",
       "403705        250       PART II  COMPLETED  1ST DIVISION       111   \n",
       "\n",
       "                  PREMISE_TYPE  \\\n",
       "403701  HIGHWAY / ROAD / ALLEY   \n",
       "403702        RESIDENCE / HOME   \n",
       "403703  HIGHWAY / ROAD / ALLEY   \n",
       "403704    PARKING LOT / GARAGE   \n",
       "403705   BANK / SAVINGS & LOAN   \n",
       "\n",
       "                                            BLOCK_ADDRESS        CITY  \\\n",
       "403701  1600 BLOCK ROOSEVELT AVE                      ...  LOUISVILLE   \n",
       "403702  2200 BLOCK HEATHER LN                         ...  LOUISVILLE   \n",
       "403703  2500 BLOCK PORTLAND AVE                       ...  LOUISVILLE   \n",
       "403704  2100 BLOCK BANK ST                            ...  LOUISVILLE   \n",
       "403705  2100 BLOCK BANK ST                            ...  LOUISVILLE   \n",
       "\n",
       "       ZIP_CODE       ID  \n",
       "403701  40242.0  1211593  \n",
       "403702  40218.0  1211594  \n",
       "403703  40212.0  1211595  \n",
       "403704  40212.0  1211596  \n",
       "403705  40212.0  1211597  "
      ]
     },
     "execution_count": 4,
     "metadata": {},
     "output_type": "execute_result"
    }
   ],
   "source": [
    "df.tail()"
   ]
  },
  {
   "cell_type": "code",
   "execution_count": 5,
   "metadata": {},
   "outputs": [
    {
     "name": "stdout",
     "output_type": "stream",
     "text": [
      "<class 'pandas.core.frame.DataFrame'>\n",
      "RangeIndex: 403706 entries, 0 to 403705\n",
      "Data columns (total 15 columns):\n",
      " #   Column           Non-Null Count   Dtype \n",
      "---  ------           --------------   ----- \n",
      " 0   INCIDENT_NUMBER  403706 non-null  object\n",
      " 1   DATE_REPORTED    403706 non-null  object\n",
      " 2   DATE_OCCURED     403686 non-null  object\n",
      " 3   UOR_DESC         403706 non-null  object\n",
      " 4   CRIME_TYPE       403706 non-null  object\n",
      " 5   NIBRS_CODE       403706 non-null  object\n",
      " 6   UCR_HIERARCHY    397897 non-null  object\n",
      " 7   ATT_COMP         402839 non-null  object\n",
      " 8   LMPD_DIVISION    403706 non-null  object\n",
      " 9   LMPD_BEAT        402746 non-null  object\n",
      " 10  PREMISE_TYPE     403350 non-null  object\n",
      " 11  BLOCK_ADDRESS    403706 non-null  object\n",
      " 12  CITY             403133 non-null  object\n",
      " 13  ZIP_CODE         401197 non-null  object\n",
      " 14  ID               403706 non-null  int64 \n",
      "dtypes: int64(1), object(14)\n",
      "memory usage: 46.2+ MB\n"
     ]
    }
   ],
   "source": [
    "df.info()"
   ]
  },
  {
   "cell_type": "code",
   "execution_count": 6,
   "metadata": {},
   "outputs": [
    {
     "data": {
      "text/plain": [
       "INCIDENT_NUMBER       0\n",
       "DATE_REPORTED         0\n",
       "DATE_OCCURED         20\n",
       "UOR_DESC              0\n",
       "CRIME_TYPE            0\n",
       "NIBRS_CODE            0\n",
       "UCR_HIERARCHY      5809\n",
       "ATT_COMP            867\n",
       "LMPD_DIVISION         0\n",
       "LMPD_BEAT           960\n",
       "PREMISE_TYPE        356\n",
       "BLOCK_ADDRESS         0\n",
       "CITY                573\n",
       "ZIP_CODE           2509\n",
       "ID                    0\n",
       "dtype: int64"
      ]
     },
     "execution_count": 6,
     "metadata": {},
     "output_type": "execute_result"
    }
   ],
   "source": [
    "df.isna().sum()"
   ]
  },
  {
   "cell_type": "code",
   "execution_count": 7,
   "metadata": {},
   "outputs": [
    {
     "data": {
      "text/plain": [
       "False"
      ]
     },
     "execution_count": 7,
     "metadata": {},
     "output_type": "execute_result"
    }
   ],
   "source": [
    "df['ID'].is_unique"
   ]
  },
  {
   "cell_type": "code",
   "execution_count": 8,
   "metadata": {},
   "outputs": [
    {
     "data": {
      "text/html": [
       "<div>\n",
       "<style scoped>\n",
       "    .dataframe tbody tr th:only-of-type {\n",
       "        vertical-align: middle;\n",
       "    }\n",
       "\n",
       "    .dataframe tbody tr th {\n",
       "        vertical-align: top;\n",
       "    }\n",
       "\n",
       "    .dataframe thead th {\n",
       "        text-align: right;\n",
       "    }\n",
       "</style>\n",
       "<table border=\"1\" class=\"dataframe\">\n",
       "  <thead>\n",
       "    <tr style=\"text-align: right;\">\n",
       "      <th></th>\n",
       "      <th>INCIDENT_NUMBER</th>\n",
       "      <th>DATE_REPORTED</th>\n",
       "      <th>DATE_OCCURED</th>\n",
       "      <th>UOR_DESC</th>\n",
       "      <th>CRIME_TYPE</th>\n",
       "      <th>NIBRS_CODE</th>\n",
       "      <th>UCR_HIERARCHY</th>\n",
       "      <th>ATT_COMP</th>\n",
       "      <th>LMPD_DIVISION</th>\n",
       "      <th>LMPD_BEAT</th>\n",
       "      <th>PREMISE_TYPE</th>\n",
       "      <th>BLOCK_ADDRESS</th>\n",
       "      <th>CITY</th>\n",
       "      <th>ZIP_CODE</th>\n",
       "      <th>ID</th>\n",
       "    </tr>\n",
       "  </thead>\n",
       "  <tbody>\n",
       "    <tr>\n",
       "      <th>163997</th>\n",
       "      <td>80-16-018188</td>\n",
       "      <td>2016-03-02 22:22:00</td>\n",
       "      <td>2016-03-02 22:22:00</td>\n",
       "      <td>POSS CONT SUB-1ST DEGREE-1ST OFFENSE-DRUG UNSP...</td>\n",
       "      <td>DRUGS/ALCOHOL VIOLATIONS</td>\n",
       "      <td>35A</td>\n",
       "      <td>PART II</td>\n",
       "      <td>COMPLETED</td>\n",
       "      <td>7TH DIVISION</td>\n",
       "      <td>724</td>\n",
       "      <td>HIGHWAY / ROAD / ALLEY</td>\n",
       "      <td>BLUE CREEK CT / WHISPERING BROOK DR           ...</td>\n",
       "      <td>LOUISVILLE</td>\n",
       "      <td>40229.0</td>\n",
       "      <td>1002981</td>\n",
       "    </tr>\n",
       "    <tr>\n",
       "      <th>187086</th>\n",
       "      <td>80-16-004690</td>\n",
       "      <td>2016-01-14 00:50:00</td>\n",
       "      <td>2016-01-14 00:50:00</td>\n",
       "      <td>DRUG PARAPHERNALIA - BUY/POSSESS</td>\n",
       "      <td>DRUGS/ALCOHOL VIOLATIONS</td>\n",
       "      <td>35B</td>\n",
       "      <td>PART II</td>\n",
       "      <td>COMPLETED</td>\n",
       "      <td>METRO LOUISVILLE</td>\n",
       "      <td>METRO</td>\n",
       "      <td>HIGHWAY / ROAD / ALLEY</td>\n",
       "      <td>DIXIE HWY / RALPH AVE                         ...</td>\n",
       "      <td>SHIVELY</td>\n",
       "      <td>40216.0</td>\n",
       "      <td>987194</td>\n",
       "    </tr>\n",
       "    <tr>\n",
       "      <th>188802</th>\n",
       "      <td>80-16-043438</td>\n",
       "      <td>2016-05-22 22:43:00</td>\n",
       "      <td>2016-05-22 22:00:00</td>\n",
       "      <td>TBUT OR DISP ALL OTHERS &lt;  $500</td>\n",
       "      <td>FRAUD</td>\n",
       "      <td>270</td>\n",
       "      <td>PART II</td>\n",
       "      <td>COMPLETED</td>\n",
       "      <td>8TH DIVISION</td>\n",
       "      <td>812</td>\n",
       "      <td>GROCERY / SUPERMARKET</td>\n",
       "      <td>9400 BLOCK BROWNSBORO RD                      ...</td>\n",
       "      <td>LOUISVILLE</td>\n",
       "      <td>40241.0</td>\n",
       "      <td>1028083</td>\n",
       "    </tr>\n",
       "    <tr>\n",
       "      <th>189499</th>\n",
       "      <td>80-16-046089</td>\n",
       "      <td>2016-05-31 10:42:00</td>\n",
       "      <td>2016-05-31 09:00:00</td>\n",
       "      <td>MISSING PERSONS</td>\n",
       "      <td>OTHER</td>\n",
       "      <td>90Z</td>\n",
       "      <td>PART II</td>\n",
       "      <td>COMPLETED</td>\n",
       "      <td>5TH DIVISION</td>\n",
       "      <td>513</td>\n",
       "      <td>DRUG STORE/DR`S OFFICE/HOSPITAL</td>\n",
       "      <td>2000 BLOCK NEWBURG RD                         ...</td>\n",
       "      <td>LOUISVILLE</td>\n",
       "      <td>40210.0</td>\n",
       "      <td>1028153</td>\n",
       "    </tr>\n",
       "    <tr>\n",
       "      <th>189760</th>\n",
       "      <td>80-16-057507</td>\n",
       "      <td>2016-07-07 10:46:00</td>\n",
       "      <td>2016-07-07 10:46:00</td>\n",
       "      <td>TRAF CONT SUB-1ST DEG 1ST OFF (&gt;= 4 GRAMS COCA...</td>\n",
       "      <td>DRUGS/ALCOHOL VIOLATIONS</td>\n",
       "      <td>35A</td>\n",
       "      <td>PART II</td>\n",
       "      <td>COMPLETED</td>\n",
       "      <td>6TH DIVISION</td>\n",
       "      <td>613</td>\n",
       "      <td>HIGHWAY / ROAD / ALLEY</td>\n",
       "      <td>BISHOP LN / NEWBURG RD                        ...</td>\n",
       "      <td>LOUISVILLE</td>\n",
       "      <td>40218.0</td>\n",
       "      <td>1028191</td>\n",
       "    </tr>\n",
       "  </tbody>\n",
       "</table>\n",
       "</div>"
      ],
      "text/plain": [
       "       INCIDENT_NUMBER        DATE_REPORTED         DATE_OCCURED  \\\n",
       "163997    80-16-018188  2016-03-02 22:22:00  2016-03-02 22:22:00   \n",
       "187086    80-16-004690  2016-01-14 00:50:00  2016-01-14 00:50:00   \n",
       "188802    80-16-043438  2016-05-22 22:43:00  2016-05-22 22:00:00   \n",
       "189499    80-16-046089  2016-05-31 10:42:00  2016-05-31 09:00:00   \n",
       "189760    80-16-057507  2016-07-07 10:46:00  2016-07-07 10:46:00   \n",
       "\n",
       "                                                 UOR_DESC  \\\n",
       "163997  POSS CONT SUB-1ST DEGREE-1ST OFFENSE-DRUG UNSP...   \n",
       "187086                   DRUG PARAPHERNALIA - BUY/POSSESS   \n",
       "188802                    TBUT OR DISP ALL OTHERS <  $500   \n",
       "189499                                    MISSING PERSONS   \n",
       "189760  TRAF CONT SUB-1ST DEG 1ST OFF (>= 4 GRAMS COCA...   \n",
       "\n",
       "                      CRIME_TYPE NIBRS_CODE UCR_HIERARCHY   ATT_COMP  \\\n",
       "163997  DRUGS/ALCOHOL VIOLATIONS        35A       PART II  COMPLETED   \n",
       "187086  DRUGS/ALCOHOL VIOLATIONS        35B       PART II  COMPLETED   \n",
       "188802                     FRAUD        270       PART II  COMPLETED   \n",
       "189499                     OTHER        90Z       PART II  COMPLETED   \n",
       "189760  DRUGS/ALCOHOL VIOLATIONS        35A       PART II  COMPLETED   \n",
       "\n",
       "           LMPD_DIVISION LMPD_BEAT                     PREMISE_TYPE  \\\n",
       "163997      7TH DIVISION       724           HIGHWAY / ROAD / ALLEY   \n",
       "187086  METRO LOUISVILLE     METRO           HIGHWAY / ROAD / ALLEY   \n",
       "188802      8TH DIVISION       812            GROCERY / SUPERMARKET   \n",
       "189499      5TH DIVISION       513  DRUG STORE/DR`S OFFICE/HOSPITAL   \n",
       "189760      6TH DIVISION       613           HIGHWAY / ROAD / ALLEY   \n",
       "\n",
       "                                            BLOCK_ADDRESS        CITY  \\\n",
       "163997  BLUE CREEK CT / WHISPERING BROOK DR           ...  LOUISVILLE   \n",
       "187086  DIXIE HWY / RALPH AVE                         ...     SHIVELY   \n",
       "188802  9400 BLOCK BROWNSBORO RD                      ...  LOUISVILLE   \n",
       "189499  2000 BLOCK NEWBURG RD                         ...  LOUISVILLE   \n",
       "189760  BISHOP LN / NEWBURG RD                        ...  LOUISVILLE   \n",
       "\n",
       "       ZIP_CODE       ID  \n",
       "163997  40229.0  1002981  \n",
       "187086  40216.0   987194  \n",
       "188802  40241.0  1028083  \n",
       "189499  40210.0  1028153  \n",
       "189760  40218.0  1028191  "
      ]
     },
     "execution_count": 8,
     "metadata": {},
     "output_type": "execute_result"
    }
   ],
   "source": [
    "df[df['ID'].duplicated()].head()"
   ]
  },
  {
   "cell_type": "code",
   "execution_count": 9,
   "metadata": {},
   "outputs": [
    {
     "data": {
      "text/html": [
       "<div>\n",
       "<style scoped>\n",
       "    .dataframe tbody tr th:only-of-type {\n",
       "        vertical-align: middle;\n",
       "    }\n",
       "\n",
       "    .dataframe tbody tr th {\n",
       "        vertical-align: top;\n",
       "    }\n",
       "\n",
       "    .dataframe thead th {\n",
       "        text-align: right;\n",
       "    }\n",
       "</style>\n",
       "<table border=\"1\" class=\"dataframe\">\n",
       "  <thead>\n",
       "    <tr style=\"text-align: right;\">\n",
       "      <th></th>\n",
       "      <th>INCIDENT_NUMBER</th>\n",
       "      <th>DATE_REPORTED</th>\n",
       "      <th>DATE_OCCURED</th>\n",
       "      <th>UOR_DESC</th>\n",
       "      <th>CRIME_TYPE</th>\n",
       "      <th>NIBRS_CODE</th>\n",
       "      <th>UCR_HIERARCHY</th>\n",
       "      <th>ATT_COMP</th>\n",
       "      <th>LMPD_DIVISION</th>\n",
       "      <th>LMPD_BEAT</th>\n",
       "      <th>PREMISE_TYPE</th>\n",
       "      <th>BLOCK_ADDRESS</th>\n",
       "      <th>CITY</th>\n",
       "      <th>ZIP_CODE</th>\n",
       "      <th>ID</th>\n",
       "    </tr>\n",
       "  </thead>\n",
       "  <tbody>\n",
       "    <tr>\n",
       "      <th>77602</th>\n",
       "      <td>80-15-062050</td>\n",
       "      <td>2015-08-08 11:33:00</td>\n",
       "      <td>2015-08-05 11:00:00</td>\n",
       "      <td>RECEIVING STOLEN PROPERTY (FIREARM)</td>\n",
       "      <td>THEFT/LARCENY</td>\n",
       "      <td>280</td>\n",
       "      <td>PART II</td>\n",
       "      <td>COMPLETED</td>\n",
       "      <td>2ND DIVISION</td>\n",
       "      <td>223</td>\n",
       "      <td>OTHER / UNKNOWN</td>\n",
       "      <td>1400 BLOCK BEECH ST                           ...</td>\n",
       "      <td>LOUISVILLE</td>\n",
       "      <td>40211</td>\n",
       "      <td>1002981</td>\n",
       "    </tr>\n",
       "    <tr>\n",
       "      <th>163997</th>\n",
       "      <td>80-16-018188</td>\n",
       "      <td>2016-03-02 22:22:00</td>\n",
       "      <td>2016-03-02 22:22:00</td>\n",
       "      <td>POSS CONT SUB-1ST DEGREE-1ST OFFENSE-DRUG UNSP...</td>\n",
       "      <td>DRUGS/ALCOHOL VIOLATIONS</td>\n",
       "      <td>35A</td>\n",
       "      <td>PART II</td>\n",
       "      <td>COMPLETED</td>\n",
       "      <td>7TH DIVISION</td>\n",
       "      <td>724</td>\n",
       "      <td>HIGHWAY / ROAD / ALLEY</td>\n",
       "      <td>BLUE CREEK CT / WHISPERING BROOK DR           ...</td>\n",
       "      <td>LOUISVILLE</td>\n",
       "      <td>40229.0</td>\n",
       "      <td>1002981</td>\n",
       "    </tr>\n",
       "    <tr>\n",
       "      <th>354246</th>\n",
       "      <td>80-18-070978</td>\n",
       "      <td>9/11/2018 23:16</td>\n",
       "      <td>9/11/2018 23:16</td>\n",
       "      <td>POSS CONT SUB-1ST DEGREE-1ST OFFENSE-COCAINE</td>\n",
       "      <td>DRUGS/ALCOHOL VIOLATIONS</td>\n",
       "      <td>35A</td>\n",
       "      <td>PART II</td>\n",
       "      <td>COMPLETED</td>\n",
       "      <td>1ST DIVISION</td>\n",
       "      <td>111</td>\n",
       "      <td>HIGHWAY / ROAD / ALLEY</td>\n",
       "      <td>S 26TH ST / W MARKET ST                       ...</td>\n",
       "      <td>LOUISVILLE</td>\n",
       "      <td>40212.0</td>\n",
       "      <td>1002981</td>\n",
       "    </tr>\n",
       "  </tbody>\n",
       "</table>\n",
       "</div>"
      ],
      "text/plain": [
       "       INCIDENT_NUMBER        DATE_REPORTED         DATE_OCCURED  \\\n",
       "77602     80-15-062050  2015-08-08 11:33:00  2015-08-05 11:00:00   \n",
       "163997    80-16-018188  2016-03-02 22:22:00  2016-03-02 22:22:00   \n",
       "354246    80-18-070978      9/11/2018 23:16      9/11/2018 23:16   \n",
       "\n",
       "                                                 UOR_DESC  \\\n",
       "77602                 RECEIVING STOLEN PROPERTY (FIREARM)   \n",
       "163997  POSS CONT SUB-1ST DEGREE-1ST OFFENSE-DRUG UNSP...   \n",
       "354246       POSS CONT SUB-1ST DEGREE-1ST OFFENSE-COCAINE   \n",
       "\n",
       "                      CRIME_TYPE NIBRS_CODE UCR_HIERARCHY   ATT_COMP  \\\n",
       "77602              THEFT/LARCENY        280       PART II  COMPLETED   \n",
       "163997  DRUGS/ALCOHOL VIOLATIONS        35A       PART II  COMPLETED   \n",
       "354246  DRUGS/ALCOHOL VIOLATIONS        35A       PART II  COMPLETED   \n",
       "\n",
       "       LMPD_DIVISION LMPD_BEAT            PREMISE_TYPE  \\\n",
       "77602   2ND DIVISION       223         OTHER / UNKNOWN   \n",
       "163997  7TH DIVISION       724  HIGHWAY / ROAD / ALLEY   \n",
       "354246  1ST DIVISION       111  HIGHWAY / ROAD / ALLEY   \n",
       "\n",
       "                                            BLOCK_ADDRESS        CITY  \\\n",
       "77602   1400 BLOCK BEECH ST                           ...  LOUISVILLE   \n",
       "163997  BLUE CREEK CT / WHISPERING BROOK DR           ...  LOUISVILLE   \n",
       "354246  S 26TH ST / W MARKET ST                       ...  LOUISVILLE   \n",
       "\n",
       "       ZIP_CODE       ID  \n",
       "77602     40211  1002981  \n",
       "163997  40229.0  1002981  \n",
       "354246  40212.0  1002981  "
      ]
     },
     "execution_count": 9,
     "metadata": {},
     "output_type": "execute_result"
    }
   ],
   "source": [
    "df[df.ID == 1002981]"
   ]
  },
  {
   "cell_type": "code",
   "execution_count": 10,
   "metadata": {},
   "outputs": [],
   "source": [
    "df.drop('ID', axis=1, inplace=True)"
   ]
  },
  {
   "cell_type": "code",
   "execution_count": 11,
   "metadata": {},
   "outputs": [
    {
     "name": "stdout",
     "output_type": "stream",
     "text": [
      "<class 'pandas.core.frame.DataFrame'>\n",
      "RangeIndex: 403706 entries, 0 to 403705\n",
      "Data columns (total 14 columns):\n",
      " #   Column           Non-Null Count   Dtype \n",
      "---  ------           --------------   ----- \n",
      " 0   INCIDENT_NUMBER  403706 non-null  object\n",
      " 1   DATE_REPORTED    403706 non-null  object\n",
      " 2   DATE_OCCURED     403686 non-null  object\n",
      " 3   UOR_DESC         403706 non-null  object\n",
      " 4   CRIME_TYPE       403706 non-null  object\n",
      " 5   NIBRS_CODE       403706 non-null  object\n",
      " 6   UCR_HIERARCHY    397897 non-null  object\n",
      " 7   ATT_COMP         402839 non-null  object\n",
      " 8   LMPD_DIVISION    403706 non-null  object\n",
      " 9   LMPD_BEAT        402746 non-null  object\n",
      " 10  PREMISE_TYPE     403350 non-null  object\n",
      " 11  BLOCK_ADDRESS    403706 non-null  object\n",
      " 12  CITY             403133 non-null  object\n",
      " 13  ZIP_CODE         401197 non-null  object\n",
      "dtypes: object(14)\n",
      "memory usage: 43.1+ MB\n"
     ]
    }
   ],
   "source": [
    "df.info()"
   ]
  },
  {
   "cell_type": "code",
   "execution_count": 12,
   "metadata": {},
   "outputs": [
    {
     "data": {
      "text/plain": [
       "TBUT OR DISP SHOPLIFTING < $500                               22227\n",
       "DRUG PARAPHERNALIA - BUY/POSSESS                              20905\n",
       "POSS OF MARIJUANA                                             18464\n",
       "BURGLARY - 2ND DEGREE                                         18148\n",
       "CRIMINAL MISCHIEF-3RD DEGREE                                  17025\n",
       "                                                              ...  \n",
       "PROSTITUTION, PROCURING WHILE INFECTED (H.I.V.)                   1\n",
       "FAILURE TO DISPERSE                                               1\n",
       "LOTTERY INFLUENCE WINNING OF PRIZE THRU COERCION/FRAUD/ETC        1\n",
       "SELL/TRANSPT FIREARM TO PERSON PROH FROM POSSESS                  1\n",
       "FILING AN ILLEGAL LIEN 1ST OFFENSE                                1\n",
       "Name: UOR_DESC, Length: 747, dtype: int64"
      ]
     },
     "execution_count": 12,
     "metadata": {},
     "output_type": "execute_result"
    }
   ],
   "source": [
    "df.UOR_DESC.value_counts()\n",
    "#df.UOR_DESC.value_counts().plot()"
   ]
  },
  {
   "cell_type": "code",
   "execution_count": 13,
   "metadata": {},
   "outputs": [
    {
     "data": {
      "text/plain": [
       "count      747.000000\n",
       "mean       540.436412\n",
       "std       2132.577641\n",
       "min          1.000000\n",
       "25%          2.000000\n",
       "50%         11.000000\n",
       "75%         90.500000\n",
       "max      22227.000000\n",
       "Name: UOR_DESC, dtype: float64"
      ]
     },
     "execution_count": 13,
     "metadata": {},
     "output_type": "execute_result"
    }
   ],
   "source": [
    "uor = df.UOR_DESC.value_counts()\n",
    "uor.describe()"
   ]
  },
  {
   "cell_type": "code",
   "execution_count": 14,
   "metadata": {},
   "outputs": [
    {
     "data": {
      "text/plain": [
       "THEFT/LARCENY               78587\n",
       "DRUGS/ALCOHOL VIOLATIONS    71743\n",
       "ASSAULT                     67203\n",
       "OTHER                       40547\n",
       "BURGLARY                    29560\n",
       "VANDALISM                   28608\n",
       "VEHICLE BREAK-IN/THEFT      28212\n",
       "FRAUD                       21449\n",
       "MOTOR VEHICLE THEFT         18076\n",
       "ROBBERY                      7204\n",
       "WEAPONS                      6850\n",
       "SEX CRIMES                   2776\n",
       "DISTURBING THE PEACE         2345\n",
       "HOMICIDE                      475\n",
       "ARSON                          36\n",
       "DUI                            35\n",
       "Name: CRIME_TYPE, dtype: int64"
      ]
     },
     "execution_count": 14,
     "metadata": {},
     "output_type": "execute_result"
    }
   ],
   "source": [
    "df.CRIME_TYPE.value_counts()"
   ]
  },
  {
   "cell_type": "code",
   "execution_count": 15,
   "metadata": {},
   "outputs": [
    {
     "data": {
      "text/plain": [
       "35A    50609\n",
       "23H    36156\n",
       "90Z    33689\n",
       "13B    32121\n",
       "220    29560\n",
       "290    28608\n",
       "23C    24645\n",
       "23F    23307\n",
       "35B    21066\n",
       "240    18076\n",
       "13C    15292\n",
       "13A    11606\n",
       "23D    11182\n",
       "26B     9288\n",
       "120     7204\n",
       "90F     7154\n",
       "520     6850\n",
       "999     6838\n",
       "280     5948\n",
       "23G     4905\n",
       "26C     4803\n",
       "250     3677\n",
       "26A     2034\n",
       "270     1580\n",
       "90J     1286\n",
       "11D     1178\n",
       "100     1030\n",
       "11A      847\n",
       "40A      631\n",
       "11B      601\n",
       "09A      420\n",
       "23A      358\n",
       "90C      237\n",
       "23B      210\n",
       "40B      104\n",
       "23E       88\n",
       "36B       80\n",
       "90E       62\n",
       "90H       52\n",
       "09C       50\n",
       "370       49\n",
       "200       36\n",
       "210       35\n",
       "90D       35\n",
       "510       25\n",
       "39C       21\n",
       "720       20\n",
       "36A       18\n",
       "39B        9\n",
       "90B        8\n",
       "90G        6\n",
       "09B        5\n",
       "26D        4\n",
       "90A        3\n",
       "Name: NIBRS_CODE, dtype: int64"
      ]
     },
     "execution_count": 15,
     "metadata": {},
     "output_type": "execute_result"
    }
   ],
   "source": [
    "df.NIBRS_CODE.value_counts()"
   ]
  },
  {
   "cell_type": "code",
   "execution_count": 16,
   "metadata": {},
   "outputs": [
    {
     "data": {
      "text/plain": [
       "SEX CRIMES    18\n",
       "Name: CRIME_TYPE, dtype: int64"
      ]
     },
     "execution_count": 16,
     "metadata": {},
     "output_type": "execute_result"
    }
   ],
   "source": [
    "df[df.NIBRS_CODE == \"36A\"].CRIME_TYPE.value_counts()"
   ]
  },
  {
   "cell_type": "code",
   "execution_count": 17,
   "metadata": {},
   "outputs": [],
   "source": [
    "df.drop('NIBRS_CODE', axis=1, inplace=True)"
   ]
  },
  {
   "cell_type": "code",
   "execution_count": 18,
   "metadata": {},
   "outputs": [
    {
     "data": {
      "text/plain": [
       "PART II    228731\n",
       "PART I     169166\n",
       "Name: UCR_HIERARCHY, dtype: int64"
      ]
     },
     "execution_count": 18,
     "metadata": {},
     "output_type": "execute_result"
    }
   ],
   "source": [
    "df.UCR_HIERARCHY.value_counts()"
   ]
  },
  {
   "cell_type": "code",
   "execution_count": 19,
   "metadata": {},
   "outputs": [
    {
     "data": {
      "text/plain": [
       "COMPLETED    396521\n",
       "ATTEMPTED      6318\n",
       "Name: ATT_COMP, dtype: int64"
      ]
     },
     "execution_count": 19,
     "metadata": {},
     "output_type": "execute_result"
    }
   ],
   "source": [
    "df.ATT_COMP.value_counts()"
   ]
  },
  {
   "cell_type": "code",
   "execution_count": 20,
   "metadata": {},
   "outputs": [
    {
     "data": {
      "text/plain": [
       "4TH DIVISION        70388\n",
       "3RD DIVISION        66651\n",
       "1ST DIVISION        57328\n",
       "2ND DIVISION        53096\n",
       "7TH DIVISION        47523\n",
       "6TH DIVISION        47279\n",
       "8TH DIVISION        28963\n",
       "5TH DIVISION        25869\n",
       "METRO LOUISVILLE     6609\n",
       "Name: LMPD_DIVISION, dtype: int64"
      ]
     },
     "execution_count": 20,
     "metadata": {},
     "output_type": "execute_result"
    }
   ],
   "source": [
    "divisions = sorted(df.LMPD_DIVISION.unique())\n",
    "df.LMPD_DIVISION.value_counts()"
   ]
  },
  {
   "cell_type": "code",
   "execution_count": 21,
   "metadata": {},
   "outputs": [
    {
     "data": {
      "text/plain": [
       "234         2\n",
       "331         9\n",
       "334         1\n",
       "412         3\n",
       "423        10\n",
       "435         7\n",
       "514         5\n",
       "525        17\n",
       "611         6\n",
       "612         4\n",
       "613        29\n",
       "624         2\n",
       "625        16\n",
       "711         4\n",
       "724         1\n",
       "8           1\n",
       "811         3\n",
       "812         2\n",
       "815         8\n",
       "823         1\n",
       "824         2\n",
       "ANC         6\n",
       "AUD        44\n",
       "GD         45\n",
       "IH         22\n",
       "JTN       278\n",
       "METRO    3810\n",
       "PRO        12\n",
       "SHV       816\n",
       "STM       397\n",
       "WB         86\n",
       "Name: LMPD_BEAT, dtype: int64"
      ]
     },
     "execution_count": 21,
     "metadata": {},
     "output_type": "execute_result"
    }
   ],
   "source": [
    "df[df.LMPD_DIVISION == \"METRO LOUISVILLE\"].LMPD_BEAT.value_counts().sort_index()"
   ]
  },
  {
   "cell_type": "code",
   "execution_count": 22,
   "metadata": {},
   "outputs": [
    {
     "data": {
      "text/plain": [
       "RESIDENCE / HOME                      145797\n",
       "HIGHWAY / ROAD / ALLEY                 85600\n",
       "PARKING LOT / GARAGE                   32100\n",
       "OTHER RESIDENCE (APARTMENT/CONDO)      25611\n",
       "DEPARTMENT / DISCOUNT STORE            22057\n",
       "OTHER / UNKNOWN                        17758\n",
       "GROCERY / SUPERMARKET                   8310\n",
       "SERVICE / GAS STATION                   5970\n",
       "RESTAURANT                              5806\n",
       "CONVENIENCE STORE                       5703\n",
       "SPECIALTY STORE (TV, FUR, ETC)          4957\n",
       "DRUG STORE/DR`S OFFICE/HOSPITAL         4741\n",
       "COMMERCIAL / OFFICE BUILDING            4547\n",
       "HOTEL / MOTEL / ETC.                    4097\n",
       "NON-ATTACHED RESD GARAGE/SHED/BULD      3595\n",
       "SCHOOL - ELEMENTARY / SECONDARY         3109\n",
       "PARK / PLAYGROUND                       3088\n",
       "BAR / NIGHT CLUB                        2616\n",
       "BANK / SAVINGS & LOAN                   2228\n",
       "GOVERNMENT / PUBLIC BUILDING            1952\n",
       "CHURCH / SYNAGOGUE / TEMPLE             1378\n",
       "CONSTRUCTION SITE                       1358\n",
       "CYBERSPACE                              1263\n",
       "AUTO DEALERSHIP (NEW OR USED)           1255\n",
       "RENTAL / STORAGE FACILITY               1118\n",
       "LIQUOR STORE                             863\n",
       "MALL / SHOPPING CENTER                   848\n",
       "SCHOOL - COLLEGE / UNIVERSITY            639\n",
       "AIR / BUS / TRAIN TERMINAL               598\n",
       "INDUSTRIAL SITE                          589\n",
       "JAIL / PENITENTARY                       526\n",
       "FIELD / WOODS                            477\n",
       "HOMELESS SHELTER / MISSION               430\n",
       "ATTACHED RESIDENTIAL GARAGE              392\n",
       "CHILD DAYCARE FACILITY                   322\n",
       "FAIRGROUNDS / STADIUM / ARENA            297\n",
       "ATM SEPARATE FROM BANK                   287\n",
       "AMUSEMENT PARK                           267\n",
       "COMMUNITY CENTER                         206\n",
       "ABANDONED/CONDEMNED STRUCTURE            192\n",
       "RACE TRACK/GAMBLING FACILITY             149\n",
       "DOCK/WHARF/FREIGHT/MODAL TERMINAL        129\n",
       "LAKE / WATERWAY                           43\n",
       "FARM FACILITY                             27\n",
       "TRIBAL LANDS                              27\n",
       "CAMP / CAMPGROUND                         19\n",
       "REST AREA                                  4\n",
       "MILITARY INSTALLATION                      3\n",
       "CEMETERY / GRAVEYARD                       2\n",
       "Name: PREMISE_TYPE, dtype: int64"
      ]
     },
     "execution_count": 22,
     "metadata": {},
     "output_type": "execute_result"
    }
   ],
   "source": [
    "df.PREMISE_TYPE.value_counts()"
   ]
  },
  {
   "cell_type": "code",
   "execution_count": 23,
   "metadata": {},
   "outputs": [
    {
     "data": {
      "text/plain": [
       "<AxesSubplot:>"
      ]
     },
     "execution_count": 23,
     "metadata": {},
     "output_type": "execute_result"
    },
    {
     "data": {
      "image/png": "[encoded data removed]",
      "text/plain": [
       "<Figure size 432x288 with 1 Axes>"
      ]
     },
     "metadata": {
      "needs_background": "light"
     },
     "output_type": "display_data"
    }
   ],
   "source": [
    "df.CITY.value_counts().plot()"
   ]
  },
  {
   "cell_type": "code",
   "execution_count": 24,
   "metadata": {},
   "outputs": [
    {
     "data": {
      "text/plain": [
       "LOUISVILLE    388530\n",
       "MIDDLETOWN      2241\n",
       "LYNDON          2200\n",
       "SHIVELY         1275\n",
       "LVIL             918\n",
       "               ...  \n",
       "HOUSTON            1\n",
       "NEW ALBANY         1\n",
       "MISHAWAKA          1\n",
       "LOUISV             1\n",
       "MOUNT EDEN         1\n",
       "Name: CITY, Length: 137, dtype: int64"
      ]
     },
     "execution_count": 24,
     "metadata": {},
     "output_type": "execute_result"
    }
   ],
   "source": [
    "df.CITY.value_counts()"
   ]
  },
  {
   "cell_type": "code",
   "execution_count": 25,
   "metadata": {},
   "outputs": [
    {
     "data": {
      "text/plain": [
       "<AxesSubplot:>"
      ]
     },
     "execution_count": 25,
     "metadata": {},
     "output_type": "execute_result"
    },
    {
     "data": {
      "image/png": "[encoded data removed]",
      "text/plain": [
       "<Figure size 432x288 with 1 Axes>"
      ]
     },
     "metadata": {
      "needs_background": "light"
     },
     "output_type": "display_data"
    }
   ],
   "source": [
    "df.ZIP_CODE.value_counts().plot()"
   ]
  },
  {
   "cell_type": "code",
   "execution_count": 26,
   "metadata": {},
   "outputs": [
    {
     "data": {
      "text/plain": [
       "40211.0    18438\n",
       "40203.0    18365\n",
       "40214.0    18298\n",
       "40219.0    17068\n",
       "40215.0    13548\n",
       "           ...  \n",
       "40045          1\n",
       "40102.0        1\n",
       "40324.0        1\n",
       "10215.0        1\n",
       "50.0           1\n",
       "Name: ZIP_CODE, Length: 137, dtype: int64"
      ]
     },
     "execution_count": 26,
     "metadata": {},
     "output_type": "execute_result"
    }
   ],
   "source": [
    "df.ZIP_CODE.value_counts()"
   ]
  },
  {
   "cell_type": "code",
   "execution_count": 27,
   "metadata": {},
   "outputs": [
    {
     "data": {
      "text/plain": [
       "INCIDENT_NUMBER    string\n",
       "DATE_REPORTED      string\n",
       "DATE_OCCURED       string\n",
       "UOR_DESC           string\n",
       "CRIME_TYPE         string\n",
       "UCR_HIERARCHY      string\n",
       "ATT_COMP           string\n",
       "LMPD_DIVISION      string\n",
       "LMPD_BEAT          string\n",
       "PREMISE_TYPE       string\n",
       "BLOCK_ADDRESS      string\n",
       "CITY               string\n",
       "ZIP_CODE           object\n",
       "dtype: object"
      ]
     },
     "execution_count": 27,
     "metadata": {},
     "output_type": "execute_result"
    }
   ],
   "source": [
    "df.convert_dtypes().dtypes"
   ]
  },
  {
   "cell_type": "code",
   "execution_count": 28,
   "metadata": {},
   "outputs": [
    {
     "data": {
      "text/html": [
       "<div>\n",
       "<style scoped>\n",
       "    .dataframe tbody tr th:only-of-type {\n",
       "        vertical-align: middle;\n",
       "    }\n",
       "\n",
       "    .dataframe tbody tr th {\n",
       "        vertical-align: top;\n",
       "    }\n",
       "\n",
       "    .dataframe thead th {\n",
       "        text-align: right;\n",
       "    }\n",
       "</style>\n",
       "<table border=\"1\" class=\"dataframe\">\n",
       "  <thead>\n",
       "    <tr style=\"text-align: right;\">\n",
       "      <th></th>\n",
       "      <th>INCIDENT_NUMBER</th>\n",
       "      <th>DATE_REPORTED</th>\n",
       "      <th>DATE_OCCURED</th>\n",
       "      <th>UOR_DESC</th>\n",
       "      <th>CRIME_TYPE</th>\n",
       "      <th>UCR_HIERARCHY</th>\n",
       "      <th>ATT_COMP</th>\n",
       "      <th>LMPD_DIVISION</th>\n",
       "      <th>LMPD_BEAT</th>\n",
       "      <th>PREMISE_TYPE</th>\n",
       "      <th>BLOCK_ADDRESS</th>\n",
       "      <th>CITY</th>\n",
       "      <th>ZIP_CODE</th>\n",
       "    </tr>\n",
       "  </thead>\n",
       "  <tbody>\n",
       "    <tr>\n",
       "      <th>0</th>\n",
       "      <td>80-14-051793</td>\n",
       "      <td>2014-07-13 12:23:00</td>\n",
       "      <td>2014-07-13 10:30:00</td>\n",
       "      <td>RECEIVING STOLEN PROPERTY (FIREARM)</td>\n",
       "      <td>THEFT/LARCENY</td>\n",
       "      <td>PART II</td>\n",
       "      <td>COMPLETED</td>\n",
       "      <td>6TH DIVISION</td>\n",
       "      <td>612</td>\n",
       "      <td>RESIDENCE / HOME</td>\n",
       "      <td>1100 BLOCK LORETTA ST                         ...</td>\n",
       "      <td>LOUISVILLE</td>\n",
       "      <td>40213.0</td>\n",
       "    </tr>\n",
       "    <tr>\n",
       "      <th>1</th>\n",
       "      <td>80-14-088221</td>\n",
       "      <td>2014-11-15 04:08:06</td>\n",
       "      <td>2014-11-10 11:00:00</td>\n",
       "      <td>RECEIVING STOLEN PROPERTY (FIREARM)</td>\n",
       "      <td>THEFT/LARCENY</td>\n",
       "      <td>PART II</td>\n",
       "      <td>COMPLETED</td>\n",
       "      <td>5TH DIVISION</td>\n",
       "      <td>513</td>\n",
       "      <td>HIGHWAY / ROAD / ALLEY</td>\n",
       "      <td>1500 BLOCK BARDSTOWN RD                       ...</td>\n",
       "      <td>LOUISVILLE</td>\n",
       "      <td>40205.0</td>\n",
       "    </tr>\n",
       "    <tr>\n",
       "      <th>2</th>\n",
       "      <td>80-14-045881</td>\n",
       "      <td>2014-06-23 06:45:00</td>\n",
       "      <td>2014-06-22 21:00:00</td>\n",
       "      <td>RECEIVING STOLEN PROPERTY (FIREARM)</td>\n",
       "      <td>THEFT/LARCENY</td>\n",
       "      <td>PART II</td>\n",
       "      <td>COMPLETED</td>\n",
       "      <td>7TH DIVISION</td>\n",
       "      <td>711</td>\n",
       "      <td>HIGHWAY / ROAD / ALLEY</td>\n",
       "      <td>4100 BLOCK WILLOWVIEW BLVD                    ...</td>\n",
       "      <td>LOUISVILLE</td>\n",
       "      <td>40299.0</td>\n",
       "    </tr>\n",
       "    <tr>\n",
       "      <th>3</th>\n",
       "      <td>80-14-005112</td>\n",
       "      <td>2014-01-20 23:55:00</td>\n",
       "      <td>2014-01-20 18:30:00</td>\n",
       "      <td>RECEIVING STOLEN PROPERTY (FIREARM)</td>\n",
       "      <td>THEFT/LARCENY</td>\n",
       "      <td>PART II</td>\n",
       "      <td>COMPLETED</td>\n",
       "      <td>5TH DIVISION</td>\n",
       "      <td>514</td>\n",
       "      <td>RESIDENCE / HOME</td>\n",
       "      <td>6100 BLOCK DUTCHMANS LN                       ...</td>\n",
       "      <td>LOUISVILLE</td>\n",
       "      <td>40205.0</td>\n",
       "    </tr>\n",
       "    <tr>\n",
       "      <th>4</th>\n",
       "      <td>80-14-087204</td>\n",
       "      <td>2014-11-11 21:18:03</td>\n",
       "      <td>2014-11-07 23:59:00</td>\n",
       "      <td>RECEIVING STOLEN PROPERTY U/$10,000</td>\n",
       "      <td>THEFT/LARCENY</td>\n",
       "      <td>PART II</td>\n",
       "      <td>COMPLETED</td>\n",
       "      <td>7TH DIVISION</td>\n",
       "      <td>736</td>\n",
       "      <td>RESIDENCE / HOME</td>\n",
       "      <td>@I65S TO OKOLONA EXIT                         ...</td>\n",
       "      <td>LOUISVILLE</td>\n",
       "      <td>40219.0</td>\n",
       "    </tr>\n",
       "  </tbody>\n",
       "</table>\n",
       "</div>"
      ],
      "text/plain": [
       "  INCIDENT_NUMBER        DATE_REPORTED         DATE_OCCURED  \\\n",
       "0    80-14-051793  2014-07-13 12:23:00  2014-07-13 10:30:00   \n",
       "1    80-14-088221  2014-11-15 04:08:06  2014-11-10 11:00:00   \n",
       "2    80-14-045881  2014-06-23 06:45:00  2014-06-22 21:00:00   \n",
       "3    80-14-005112  2014-01-20 23:55:00  2014-01-20 18:30:00   \n",
       "4    80-14-087204  2014-11-11 21:18:03  2014-11-07 23:59:00   \n",
       "\n",
       "                              UOR_DESC     CRIME_TYPE UCR_HIERARCHY  \\\n",
       "0  RECEIVING STOLEN PROPERTY (FIREARM)  THEFT/LARCENY       PART II   \n",
       "1  RECEIVING STOLEN PROPERTY (FIREARM)  THEFT/LARCENY       PART II   \n",
       "2  RECEIVING STOLEN PROPERTY (FIREARM)  THEFT/LARCENY       PART II   \n",
       "3  RECEIVING STOLEN PROPERTY (FIREARM)  THEFT/LARCENY       PART II   \n",
       "4  RECEIVING STOLEN PROPERTY U/$10,000  THEFT/LARCENY       PART II   \n",
       "\n",
       "    ATT_COMP LMPD_DIVISION LMPD_BEAT            PREMISE_TYPE  \\\n",
       "0  COMPLETED  6TH DIVISION       612        RESIDENCE / HOME   \n",
       "1  COMPLETED  5TH DIVISION       513  HIGHWAY / ROAD / ALLEY   \n",
       "2  COMPLETED  7TH DIVISION       711  HIGHWAY / ROAD / ALLEY   \n",
       "3  COMPLETED  5TH DIVISION       514        RESIDENCE / HOME   \n",
       "4  COMPLETED  7TH DIVISION       736        RESIDENCE / HOME   \n",
       "\n",
       "                                       BLOCK_ADDRESS        CITY ZIP_CODE  \n",
       "0  1100 BLOCK LORETTA ST                         ...  LOUISVILLE  40213.0  \n",
       "1  1500 BLOCK BARDSTOWN RD                       ...  LOUISVILLE  40205.0  \n",
       "2  4100 BLOCK WILLOWVIEW BLVD                    ...  LOUISVILLE  40299.0  \n",
       "3  6100 BLOCK DUTCHMANS LN                       ...  LOUISVILLE  40205.0  \n",
       "4  @I65S TO OKOLONA EXIT                         ...  LOUISVILLE  40219.0  "
      ]
     },
     "execution_count": 28,
     "metadata": {},
     "output_type": "execute_result"
    }
   ],
   "source": [
    "df.head()"
   ]
  },
  {
   "cell_type": "code",
   "execution_count": 29,
   "metadata": {},
   "outputs": [],
   "source": [
    "df.drop(\"INCIDENT_NUMBER\", axis=1, inplace=True)"
   ]
  },
  {
   "cell_type": "code",
   "execution_count": 30,
   "metadata": {},
   "outputs": [],
   "source": [
    "timer = df.DATE_OCCURED.str.split(\" \", expand=True)\n",
    "df[\"DATE\"] = timer[0]\n",
    "df[\"CLOCK\"] = timer[1]"
   ]
  },
  {
   "cell_type": "code",
   "execution_count": 31,
   "metadata": {},
   "outputs": [],
   "source": [
    "min = divmod((pd.to_datetime(df.DATE_REPORTED) - pd.to_datetime(df.DATE_OCCURED)).dt.total_seconds(), 60)"
   ]
  },
  {
   "cell_type": "code",
   "execution_count": 32,
   "metadata": {},
   "outputs": [],
   "source": [
    "df[\"DIFF_TIME_MIN\"] = min[0] "
   ]
  },
  {
   "cell_type": "code",
   "execution_count": 33,
   "metadata": {},
   "outputs": [
    {
     "data": {
      "text/html": [
       "<div>\n",
       "<style scoped>\n",
       "    .dataframe tbody tr th:only-of-type {\n",
       "        vertical-align: middle;\n",
       "    }\n",
       "\n",
       "    .dataframe tbody tr th {\n",
       "        vertical-align: top;\n",
       "    }\n",
       "\n",
       "    .dataframe thead th {\n",
       "        text-align: right;\n",
       "    }\n",
       "</style>\n",
       "<table border=\"1\" class=\"dataframe\">\n",
       "  <thead>\n",
       "    <tr style=\"text-align: right;\">\n",
       "      <th></th>\n",
       "      <th>UOR_DESC</th>\n",
       "      <th>CRIME_TYPE</th>\n",
       "      <th>UCR_HIERARCHY</th>\n",
       "      <th>ATT_COMP</th>\n",
       "      <th>LMPD_DIVISION</th>\n",
       "      <th>LMPD_BEAT</th>\n",
       "      <th>PREMISE_TYPE</th>\n",
       "      <th>BLOCK_ADDRESS</th>\n",
       "      <th>CITY</th>\n",
       "      <th>ZIP_CODE</th>\n",
       "      <th>DATE</th>\n",
       "      <th>CLOCK</th>\n",
       "      <th>DIFF_TIME_MIN</th>\n",
       "    </tr>\n",
       "  </thead>\n",
       "  <tbody>\n",
       "    <tr>\n",
       "      <th>0</th>\n",
       "      <td>RECEIVING STOLEN PROPERTY (FIREARM)</td>\n",
       "      <td>THEFT/LARCENY</td>\n",
       "      <td>PART II</td>\n",
       "      <td>COMPLETED</td>\n",
       "      <td>6TH DIVISION</td>\n",
       "      <td>612</td>\n",
       "      <td>RESIDENCE / HOME</td>\n",
       "      <td>1100 BLOCK LORETTA ST                         ...</td>\n",
       "      <td>LOUISVILLE</td>\n",
       "      <td>40213.0</td>\n",
       "      <td>2014-07-13</td>\n",
       "      <td>10:30:00</td>\n",
       "      <td>113.0</td>\n",
       "    </tr>\n",
       "    <tr>\n",
       "      <th>1</th>\n",
       "      <td>RECEIVING STOLEN PROPERTY (FIREARM)</td>\n",
       "      <td>THEFT/LARCENY</td>\n",
       "      <td>PART II</td>\n",
       "      <td>COMPLETED</td>\n",
       "      <td>5TH DIVISION</td>\n",
       "      <td>513</td>\n",
       "      <td>HIGHWAY / ROAD / ALLEY</td>\n",
       "      <td>1500 BLOCK BARDSTOWN RD                       ...</td>\n",
       "      <td>LOUISVILLE</td>\n",
       "      <td>40205.0</td>\n",
       "      <td>2014-11-10</td>\n",
       "      <td>11:00:00</td>\n",
       "      <td>6788.0</td>\n",
       "    </tr>\n",
       "    <tr>\n",
       "      <th>2</th>\n",
       "      <td>RECEIVING STOLEN PROPERTY (FIREARM)</td>\n",
       "      <td>THEFT/LARCENY</td>\n",
       "      <td>PART II</td>\n",
       "      <td>COMPLETED</td>\n",
       "      <td>7TH DIVISION</td>\n",
       "      <td>711</td>\n",
       "      <td>HIGHWAY / ROAD / ALLEY</td>\n",
       "      <td>4100 BLOCK WILLOWVIEW BLVD                    ...</td>\n",
       "      <td>LOUISVILLE</td>\n",
       "      <td>40299.0</td>\n",
       "      <td>2014-06-22</td>\n",
       "      <td>21:00:00</td>\n",
       "      <td>585.0</td>\n",
       "    </tr>\n",
       "    <tr>\n",
       "      <th>3</th>\n",
       "      <td>RECEIVING STOLEN PROPERTY (FIREARM)</td>\n",
       "      <td>THEFT/LARCENY</td>\n",
       "      <td>PART II</td>\n",
       "      <td>COMPLETED</td>\n",
       "      <td>5TH DIVISION</td>\n",
       "      <td>514</td>\n",
       "      <td>RESIDENCE / HOME</td>\n",
       "      <td>6100 BLOCK DUTCHMANS LN                       ...</td>\n",
       "      <td>LOUISVILLE</td>\n",
       "      <td>40205.0</td>\n",
       "      <td>2014-01-20</td>\n",
       "      <td>18:30:00</td>\n",
       "      <td>325.0</td>\n",
       "    </tr>\n",
       "    <tr>\n",
       "      <th>4</th>\n",
       "      <td>RECEIVING STOLEN PROPERTY U/$10,000</td>\n",
       "      <td>THEFT/LARCENY</td>\n",
       "      <td>PART II</td>\n",
       "      <td>COMPLETED</td>\n",
       "      <td>7TH DIVISION</td>\n",
       "      <td>736</td>\n",
       "      <td>RESIDENCE / HOME</td>\n",
       "      <td>@I65S TO OKOLONA EXIT                         ...</td>\n",
       "      <td>LOUISVILLE</td>\n",
       "      <td>40219.0</td>\n",
       "      <td>2014-11-07</td>\n",
       "      <td>23:59:00</td>\n",
       "      <td>5599.0</td>\n",
       "    </tr>\n",
       "  </tbody>\n",
       "</table>\n",
       "</div>"
      ],
      "text/plain": [
       "                              UOR_DESC     CRIME_TYPE UCR_HIERARCHY  \\\n",
       "0  RECEIVING STOLEN PROPERTY (FIREARM)  THEFT/LARCENY       PART II   \n",
       "1  RECEIVING STOLEN PROPERTY (FIREARM)  THEFT/LARCENY       PART II   \n",
       "2  RECEIVING STOLEN PROPERTY (FIREARM)  THEFT/LARCENY       PART II   \n",
       "3  RECEIVING STOLEN PROPERTY (FIREARM)  THEFT/LARCENY       PART II   \n",
       "4  RECEIVING STOLEN PROPERTY U/$10,000  THEFT/LARCENY       PART II   \n",
       "\n",
       "    ATT_COMP LMPD_DIVISION LMPD_BEAT            PREMISE_TYPE  \\\n",
       "0  COMPLETED  6TH DIVISION       612        RESIDENCE / HOME   \n",
       "1  COMPLETED  5TH DIVISION       513  HIGHWAY / ROAD / ALLEY   \n",
       "2  COMPLETED  7TH DIVISION       711  HIGHWAY / ROAD / ALLEY   \n",
       "3  COMPLETED  5TH DIVISION       514        RESIDENCE / HOME   \n",
       "4  COMPLETED  7TH DIVISION       736        RESIDENCE / HOME   \n",
       "\n",
       "                                       BLOCK_ADDRESS        CITY ZIP_CODE  \\\n",
       "0  1100 BLOCK LORETTA ST                         ...  LOUISVILLE  40213.0   \n",
       "1  1500 BLOCK BARDSTOWN RD                       ...  LOUISVILLE  40205.0   \n",
       "2  4100 BLOCK WILLOWVIEW BLVD                    ...  LOUISVILLE  40299.0   \n",
       "3  6100 BLOCK DUTCHMANS LN                       ...  LOUISVILLE  40205.0   \n",
       "4  @I65S TO OKOLONA EXIT                         ...  LOUISVILLE  40219.0   \n",
       "\n",
       "         DATE     CLOCK  DIFF_TIME_MIN  \n",
       "0  2014-07-13  10:30:00          113.0  \n",
       "1  2014-11-10  11:00:00         6788.0  \n",
       "2  2014-06-22  21:00:00          585.0  \n",
       "3  2014-01-20  18:30:00          325.0  \n",
       "4  2014-11-07  23:59:00         5599.0  "
      ]
     },
     "execution_count": 33,
     "metadata": {},
     "output_type": "execute_result"
    }
   ],
   "source": [
    "df.drop([\"DATE_REPORTED\", \"DATE_OCCURED\"], axis=1, inplace=True)\n",
    "df.head()"
   ]
  },
  {
   "cell_type": "code",
   "execution_count": 34,
   "metadata": {},
   "outputs": [],
   "source": [
    "#timerr = df[\"DATE\"].str.split(\"-\", n=2, expand=True)\n",
    "timerr = pd.to_datetime(df[\"DATE\"])"
   ]
  },
  {
   "cell_type": "code",
   "execution_count": 35,
   "metadata": {},
   "outputs": [
    {
     "data": {
      "text/html": [
       "<div>\n",
       "<style scoped>\n",
       "    .dataframe tbody tr th:only-of-type {\n",
       "        vertical-align: middle;\n",
       "    }\n",
       "\n",
       "    .dataframe tbody tr th {\n",
       "        vertical-align: top;\n",
       "    }\n",
       "\n",
       "    .dataframe thead th {\n",
       "        text-align: right;\n",
       "    }\n",
       "</style>\n",
       "<table border=\"1\" class=\"dataframe\">\n",
       "  <thead>\n",
       "    <tr style=\"text-align: right;\">\n",
       "      <th></th>\n",
       "      <th>UOR_DESC</th>\n",
       "      <th>CRIME_TYPE</th>\n",
       "      <th>UCR_HIERARCHY</th>\n",
       "      <th>ATT_COMP</th>\n",
       "      <th>LMPD_DIVISION</th>\n",
       "      <th>LMPD_BEAT</th>\n",
       "      <th>PREMISE_TYPE</th>\n",
       "      <th>BLOCK_ADDRESS</th>\n",
       "      <th>CITY</th>\n",
       "      <th>ZIP_CODE</th>\n",
       "      <th>CLOCK</th>\n",
       "      <th>DIFF_TIME_MIN</th>\n",
       "      <th>YEAR</th>\n",
       "      <th>MONTH</th>\n",
       "    </tr>\n",
       "  </thead>\n",
       "  <tbody>\n",
       "    <tr>\n",
       "      <th>0</th>\n",
       "      <td>RECEIVING STOLEN PROPERTY (FIREARM)</td>\n",
       "      <td>THEFT/LARCENY</td>\n",
       "      <td>PART II</td>\n",
       "      <td>COMPLETED</td>\n",
       "      <td>6TH DIVISION</td>\n",
       "      <td>612</td>\n",
       "      <td>RESIDENCE / HOME</td>\n",
       "      <td>1100 BLOCK LORETTA ST                         ...</td>\n",
       "      <td>LOUISVILLE</td>\n",
       "      <td>40213.0</td>\n",
       "      <td>10:30:00</td>\n",
       "      <td>113.0</td>\n",
       "      <td>2014.0</td>\n",
       "      <td>7.0</td>\n",
       "    </tr>\n",
       "    <tr>\n",
       "      <th>1</th>\n",
       "      <td>RECEIVING STOLEN PROPERTY (FIREARM)</td>\n",
       "      <td>THEFT/LARCENY</td>\n",
       "      <td>PART II</td>\n",
       "      <td>COMPLETED</td>\n",
       "      <td>5TH DIVISION</td>\n",
       "      <td>513</td>\n",
       "      <td>HIGHWAY / ROAD / ALLEY</td>\n",
       "      <td>1500 BLOCK BARDSTOWN RD                       ...</td>\n",
       "      <td>LOUISVILLE</td>\n",
       "      <td>40205.0</td>\n",
       "      <td>11:00:00</td>\n",
       "      <td>6788.0</td>\n",
       "      <td>2014.0</td>\n",
       "      <td>11.0</td>\n",
       "    </tr>\n",
       "    <tr>\n",
       "      <th>2</th>\n",
       "      <td>RECEIVING STOLEN PROPERTY (FIREARM)</td>\n",
       "      <td>THEFT/LARCENY</td>\n",
       "      <td>PART II</td>\n",
       "      <td>COMPLETED</td>\n",
       "      <td>7TH DIVISION</td>\n",
       "      <td>711</td>\n",
       "      <td>HIGHWAY / ROAD / ALLEY</td>\n",
       "      <td>4100 BLOCK WILLOWVIEW BLVD                    ...</td>\n",
       "      <td>LOUISVILLE</td>\n",
       "      <td>40299.0</td>\n",
       "      <td>21:00:00</td>\n",
       "      <td>585.0</td>\n",
       "      <td>2014.0</td>\n",
       "      <td>6.0</td>\n",
       "    </tr>\n",
       "    <tr>\n",
       "      <th>3</th>\n",
       "      <td>RECEIVING STOLEN PROPERTY (FIREARM)</td>\n",
       "      <td>THEFT/LARCENY</td>\n",
       "      <td>PART II</td>\n",
       "      <td>COMPLETED</td>\n",
       "      <td>5TH DIVISION</td>\n",
       "      <td>514</td>\n",
       "      <td>RESIDENCE / HOME</td>\n",
       "      <td>6100 BLOCK DUTCHMANS LN                       ...</td>\n",
       "      <td>LOUISVILLE</td>\n",
       "      <td>40205.0</td>\n",
       "      <td>18:30:00</td>\n",
       "      <td>325.0</td>\n",
       "      <td>2014.0</td>\n",
       "      <td>1.0</td>\n",
       "    </tr>\n",
       "    <tr>\n",
       "      <th>4</th>\n",
       "      <td>RECEIVING STOLEN PROPERTY U/$10,000</td>\n",
       "      <td>THEFT/LARCENY</td>\n",
       "      <td>PART II</td>\n",
       "      <td>COMPLETED</td>\n",
       "      <td>7TH DIVISION</td>\n",
       "      <td>736</td>\n",
       "      <td>RESIDENCE / HOME</td>\n",
       "      <td>@I65S TO OKOLONA EXIT                         ...</td>\n",
       "      <td>LOUISVILLE</td>\n",
       "      <td>40219.0</td>\n",
       "      <td>23:59:00</td>\n",
       "      <td>5599.0</td>\n",
       "      <td>2014.0</td>\n",
       "      <td>11.0</td>\n",
       "    </tr>\n",
       "  </tbody>\n",
       "</table>\n",
       "</div>"
      ],
      "text/plain": [
       "                              UOR_DESC     CRIME_TYPE UCR_HIERARCHY  \\\n",
       "0  RECEIVING STOLEN PROPERTY (FIREARM)  THEFT/LARCENY       PART II   \n",
       "1  RECEIVING STOLEN PROPERTY (FIREARM)  THEFT/LARCENY       PART II   \n",
       "2  RECEIVING STOLEN PROPERTY (FIREARM)  THEFT/LARCENY       PART II   \n",
       "3  RECEIVING STOLEN PROPERTY (FIREARM)  THEFT/LARCENY       PART II   \n",
       "4  RECEIVING STOLEN PROPERTY U/$10,000  THEFT/LARCENY       PART II   \n",
       "\n",
       "    ATT_COMP LMPD_DIVISION LMPD_BEAT            PREMISE_TYPE  \\\n",
       "0  COMPLETED  6TH DIVISION       612        RESIDENCE / HOME   \n",
       "1  COMPLETED  5TH DIVISION       513  HIGHWAY / ROAD / ALLEY   \n",
       "2  COMPLETED  7TH DIVISION       711  HIGHWAY / ROAD / ALLEY   \n",
       "3  COMPLETED  5TH DIVISION       514        RESIDENCE / HOME   \n",
       "4  COMPLETED  7TH DIVISION       736        RESIDENCE / HOME   \n",
       "\n",
       "                                       BLOCK_ADDRESS        CITY ZIP_CODE  \\\n",
       "0  1100 BLOCK LORETTA ST                         ...  LOUISVILLE  40213.0   \n",
       "1  1500 BLOCK BARDSTOWN RD                       ...  LOUISVILLE  40205.0   \n",
       "2  4100 BLOCK WILLOWVIEW BLVD                    ...  LOUISVILLE  40299.0   \n",
       "3  6100 BLOCK DUTCHMANS LN                       ...  LOUISVILLE  40205.0   \n",
       "4  @I65S TO OKOLONA EXIT                         ...  LOUISVILLE  40219.0   \n",
       "\n",
       "      CLOCK  DIFF_TIME_MIN    YEAR  MONTH  \n",
       "0  10:30:00          113.0  2014.0    7.0  \n",
       "1  11:00:00         6788.0  2014.0   11.0  \n",
       "2  21:00:00          585.0  2014.0    6.0  \n",
       "3  18:30:00          325.0  2014.0    1.0  \n",
       "4  23:59:00         5599.0  2014.0   11.0  "
      ]
     },
     "execution_count": 35,
     "metadata": {},
     "output_type": "execute_result"
    }
   ],
   "source": [
    "df[\"YEAR\"] = timerr.dt.year\n",
    "df[\"MONTH\"] = timerr.dt.month\n",
    "df.drop([\"DATE\"], axis=1, inplace=True)\n",
    "df.head()"
   ]
  },
  {
   "cell_type": "code",
   "execution_count": 36,
   "metadata": {},
   "outputs": [
    {
     "data": {
      "text/plain": [
       "0         10.0\n",
       "1         11.0\n",
       "2         21.0\n",
       "3         18.0\n",
       "4         23.0\n",
       "          ... \n",
       "403701    20.0\n",
       "403702     3.0\n",
       "403703     5.0\n",
       "403704    12.0\n",
       "403705    12.0\n",
       "Name: CLOCK, Length: 403706, dtype: float64"
      ]
     },
     "execution_count": 36,
     "metadata": {},
     "output_type": "execute_result"
    }
   ],
   "source": [
    "# hour = df[\"CLOCK\"].str.split(\":\", n=2, expand=True)\n",
    "# hour\n",
    "hour = pd.to_datetime(df[\"CLOCK\"])\n",
    "hour.dt.hour"
   ]
  },
  {
   "cell_type": "code",
   "execution_count": 37,
   "metadata": {},
   "outputs": [
    {
     "data": {
      "text/html": [
       "<div>\n",
       "<style scoped>\n",
       "    .dataframe tbody tr th:only-of-type {\n",
       "        vertical-align: middle;\n",
       "    }\n",
       "\n",
       "    .dataframe tbody tr th {\n",
       "        vertical-align: top;\n",
       "    }\n",
       "\n",
       "    .dataframe thead th {\n",
       "        text-align: right;\n",
       "    }\n",
       "</style>\n",
       "<table border=\"1\" class=\"dataframe\">\n",
       "  <thead>\n",
       "    <tr style=\"text-align: right;\">\n",
       "      <th></th>\n",
       "      <th>UOR_DESC</th>\n",
       "      <th>CRIME_TYPE</th>\n",
       "      <th>UCR_HIERARCHY</th>\n",
       "      <th>ATT_COMP</th>\n",
       "      <th>LMPD_DIVISION</th>\n",
       "      <th>LMPD_BEAT</th>\n",
       "      <th>PREMISE_TYPE</th>\n",
       "      <th>BLOCK_ADDRESS</th>\n",
       "      <th>CITY</th>\n",
       "      <th>ZIP_CODE</th>\n",
       "      <th>DIFF_TIME_MIN</th>\n",
       "      <th>YEAR</th>\n",
       "      <th>MONTH</th>\n",
       "      <th>HOUR</th>\n",
       "    </tr>\n",
       "  </thead>\n",
       "  <tbody>\n",
       "    <tr>\n",
       "      <th>0</th>\n",
       "      <td>RECEIVING STOLEN PROPERTY (FIREARM)</td>\n",
       "      <td>THEFT/LARCENY</td>\n",
       "      <td>PART II</td>\n",
       "      <td>COMPLETED</td>\n",
       "      <td>6TH DIVISION</td>\n",
       "      <td>612</td>\n",
       "      <td>RESIDENCE / HOME</td>\n",
       "      <td>1100 BLOCK LORETTA ST                         ...</td>\n",
       "      <td>LOUISVILLE</td>\n",
       "      <td>40213.0</td>\n",
       "      <td>113.0</td>\n",
       "      <td>2014.0</td>\n",
       "      <td>7.0</td>\n",
       "      <td>10.0</td>\n",
       "    </tr>\n",
       "    <tr>\n",
       "      <th>1</th>\n",
       "      <td>RECEIVING STOLEN PROPERTY (FIREARM)</td>\n",
       "      <td>THEFT/LARCENY</td>\n",
       "      <td>PART II</td>\n",
       "      <td>COMPLETED</td>\n",
       "      <td>5TH DIVISION</td>\n",
       "      <td>513</td>\n",
       "      <td>HIGHWAY / ROAD / ALLEY</td>\n",
       "      <td>1500 BLOCK BARDSTOWN RD                       ...</td>\n",
       "      <td>LOUISVILLE</td>\n",
       "      <td>40205.0</td>\n",
       "      <td>6788.0</td>\n",
       "      <td>2014.0</td>\n",
       "      <td>11.0</td>\n",
       "      <td>11.0</td>\n",
       "    </tr>\n",
       "    <tr>\n",
       "      <th>2</th>\n",
       "      <td>RECEIVING STOLEN PROPERTY (FIREARM)</td>\n",
       "      <td>THEFT/LARCENY</td>\n",
       "      <td>PART II</td>\n",
       "      <td>COMPLETED</td>\n",
       "      <td>7TH DIVISION</td>\n",
       "      <td>711</td>\n",
       "      <td>HIGHWAY / ROAD / ALLEY</td>\n",
       "      <td>4100 BLOCK WILLOWVIEW BLVD                    ...</td>\n",
       "      <td>LOUISVILLE</td>\n",
       "      <td>40299.0</td>\n",
       "      <td>585.0</td>\n",
       "      <td>2014.0</td>\n",
       "      <td>6.0</td>\n",
       "      <td>21.0</td>\n",
       "    </tr>\n",
       "    <tr>\n",
       "      <th>3</th>\n",
       "      <td>RECEIVING STOLEN PROPERTY (FIREARM)</td>\n",
       "      <td>THEFT/LARCENY</td>\n",
       "      <td>PART II</td>\n",
       "      <td>COMPLETED</td>\n",
       "      <td>5TH DIVISION</td>\n",
       "      <td>514</td>\n",
       "      <td>RESIDENCE / HOME</td>\n",
       "      <td>6100 BLOCK DUTCHMANS LN                       ...</td>\n",
       "      <td>LOUISVILLE</td>\n",
       "      <td>40205.0</td>\n",
       "      <td>325.0</td>\n",
       "      <td>2014.0</td>\n",
       "      <td>1.0</td>\n",
       "      <td>18.0</td>\n",
       "    </tr>\n",
       "    <tr>\n",
       "      <th>4</th>\n",
       "      <td>RECEIVING STOLEN PROPERTY U/$10,000</td>\n",
       "      <td>THEFT/LARCENY</td>\n",
       "      <td>PART II</td>\n",
       "      <td>COMPLETED</td>\n",
       "      <td>7TH DIVISION</td>\n",
       "      <td>736</td>\n",
       "      <td>RESIDENCE / HOME</td>\n",
       "      <td>@I65S TO OKOLONA EXIT                         ...</td>\n",
       "      <td>LOUISVILLE</td>\n",
       "      <td>40219.0</td>\n",
       "      <td>5599.0</td>\n",
       "      <td>2014.0</td>\n",
       "      <td>11.0</td>\n",
       "      <td>23.0</td>\n",
       "    </tr>\n",
       "  </tbody>\n",
       "</table>\n",
       "</div>"
      ],
      "text/plain": [
       "                              UOR_DESC     CRIME_TYPE UCR_HIERARCHY  \\\n",
       "0  RECEIVING STOLEN PROPERTY (FIREARM)  THEFT/LARCENY       PART II   \n",
       "1  RECEIVING STOLEN PROPERTY (FIREARM)  THEFT/LARCENY       PART II   \n",
       "2  RECEIVING STOLEN PROPERTY (FIREARM)  THEFT/LARCENY       PART II   \n",
       "3  RECEIVING STOLEN PROPERTY (FIREARM)  THEFT/LARCENY       PART II   \n",
       "4  RECEIVING STOLEN PROPERTY U/$10,000  THEFT/LARCENY       PART II   \n",
       "\n",
       "    ATT_COMP LMPD_DIVISION LMPD_BEAT            PREMISE_TYPE  \\\n",
       "0  COMPLETED  6TH DIVISION       612        RESIDENCE / HOME   \n",
       "1  COMPLETED  5TH DIVISION       513  HIGHWAY / ROAD / ALLEY   \n",
       "2  COMPLETED  7TH DIVISION       711  HIGHWAY / ROAD / ALLEY   \n",
       "3  COMPLETED  5TH DIVISION       514        RESIDENCE / HOME   \n",
       "4  COMPLETED  7TH DIVISION       736        RESIDENCE / HOME   \n",
       "\n",
       "                                       BLOCK_ADDRESS        CITY ZIP_CODE  \\\n",
       "0  1100 BLOCK LORETTA ST                         ...  LOUISVILLE  40213.0   \n",
       "1  1500 BLOCK BARDSTOWN RD                       ...  LOUISVILLE  40205.0   \n",
       "2  4100 BLOCK WILLOWVIEW BLVD                    ...  LOUISVILLE  40299.0   \n",
       "3  6100 BLOCK DUTCHMANS LN                       ...  LOUISVILLE  40205.0   \n",
       "4  @I65S TO OKOLONA EXIT                         ...  LOUISVILLE  40219.0   \n",
       "\n",
       "   DIFF_TIME_MIN    YEAR  MONTH  HOUR  \n",
       "0          113.0  2014.0    7.0  10.0  \n",
       "1         6788.0  2014.0   11.0  11.0  \n",
       "2          585.0  2014.0    6.0  21.0  \n",
       "3          325.0  2014.0    1.0  18.0  \n",
       "4         5599.0  2014.0   11.0  23.0  "
      ]
     },
     "execution_count": 37,
     "metadata": {},
     "output_type": "execute_result"
    }
   ],
   "source": [
    "df[\"HOUR\"] = hour.dt.hour\n",
    "df.drop([\"CLOCK\"], axis=1, inplace=True)\n",
    "df.head()"
   ]
  },
  {
   "cell_type": "code",
   "execution_count": 38,
   "metadata": {},
   "outputs": [
    {
     "data": {
      "text/plain": [
       "UOR_DESC            0\n",
       "CRIME_TYPE          0\n",
       "UCR_HIERARCHY    5806\n",
       "ATT_COMP          867\n",
       "LMPD_DIVISION       0\n",
       "LMPD_BEAT         960\n",
       "PREMISE_TYPE      356\n",
       "BLOCK_ADDRESS       0\n",
       "CITY              573\n",
       "ZIP_CODE         2509\n",
       "DIFF_TIME_MIN       0\n",
       "YEAR                0\n",
       "MONTH               0\n",
       "HOUR                0\n",
       "dtype: int64"
      ]
     },
     "execution_count": 38,
     "metadata": {},
     "output_type": "execute_result"
    }
   ],
   "source": [
    "df = df[df[\"YEAR\"].notna()]\n",
    "df.isna().sum()"
   ]
  },
  {
   "cell_type": "code",
   "execution_count": 39,
   "metadata": {},
   "outputs": [],
   "source": [
    "df.drop([\"LMPD_BEAT\"], axis=1, inplace=True)"
   ]
  },
  {
   "cell_type": "code",
   "execution_count": 40,
   "metadata": {},
   "outputs": [
    {
     "data": {
      "text/html": [
       "<div>\n",
       "<style scoped>\n",
       "    .dataframe tbody tr th:only-of-type {\n",
       "        vertical-align: middle;\n",
       "    }\n",
       "\n",
       "    .dataframe tbody tr th {\n",
       "        vertical-align: top;\n",
       "    }\n",
       "\n",
       "    .dataframe thead th {\n",
       "        text-align: right;\n",
       "    }\n",
       "</style>\n",
       "<table border=\"1\" class=\"dataframe\">\n",
       "  <thead>\n",
       "    <tr style=\"text-align: right;\">\n",
       "      <th></th>\n",
       "      <th>UOR_DESC</th>\n",
       "      <th>CRIME_TYPE</th>\n",
       "      <th>UCR_HIERARCHY</th>\n",
       "      <th>ATT_COMP</th>\n",
       "      <th>LMPD_DIVISION</th>\n",
       "      <th>PREMISE_TYPE</th>\n",
       "      <th>BLOCK_ADDRESS</th>\n",
       "      <th>CITY</th>\n",
       "      <th>ZIP_CODE</th>\n",
       "      <th>DIFF_TIME_MIN</th>\n",
       "      <th>YEAR</th>\n",
       "      <th>MONTH</th>\n",
       "      <th>HOUR</th>\n",
       "    </tr>\n",
       "  </thead>\n",
       "  <tbody>\n",
       "  </tbody>\n",
       "</table>\n",
       "</div>"
      ],
      "text/plain": [
       "Empty DataFrame\n",
       "Columns: [UOR_DESC, CRIME_TYPE, UCR_HIERARCHY, ATT_COMP, LMPD_DIVISION, PREMISE_TYPE, BLOCK_ADDRESS, CITY, ZIP_CODE, DIFF_TIME_MIN, YEAR, MONTH, HOUR]\n",
       "Index: []"
      ]
     },
     "execution_count": 40,
     "metadata": {},
     "output_type": "execute_result"
    }
   ],
   "source": [
    "df[(df.UCR_HIERARCHY.isna()) & (df.CRIME_TYPE != \"OTHER\")]"
   ]
  },
  {
   "cell_type": "code",
   "execution_count": 41,
   "metadata": {},
   "outputs": [],
   "source": [
    "df.loc[df.UCR_HIERARCHY.isna(), [\"UCR_HIERARCHY\"]] = \"OTHER CRIME TYPE\""
   ]
  },
  {
   "cell_type": "code",
   "execution_count": 42,
   "metadata": {},
   "outputs": [],
   "source": [
    "df.loc[df.PREMISE_TYPE.isna(), [\"PREMISE_TYPE\"]] = \"OTHER / UNKNOWN\""
   ]
  },
  {
   "cell_type": "code",
   "execution_count": 43,
   "metadata": {},
   "outputs": [],
   "source": [
    "df.loc[df.ATT_COMP.isna(), [\"ATT_COMP\"]] = \"UNKNOWN\""
   ]
  },
  {
   "cell_type": "code",
   "execution_count": 44,
   "metadata": {},
   "outputs": [],
   "source": [
    "df.loc[df.CITY.isna(), [\"CITY\"]] = \"UNKNOWN\""
   ]
  },
  {
   "cell_type": "code",
   "execution_count": 45,
   "metadata": {},
   "outputs": [
    {
     "data": {
      "text/plain": [
       "UOR_DESC            0\n",
       "CRIME_TYPE          0\n",
       "UCR_HIERARCHY       0\n",
       "ATT_COMP            0\n",
       "LMPD_DIVISION       0\n",
       "PREMISE_TYPE        0\n",
       "BLOCK_ADDRESS       0\n",
       "CITY                0\n",
       "ZIP_CODE         2509\n",
       "DIFF_TIME_MIN       0\n",
       "YEAR                0\n",
       "MONTH               0\n",
       "HOUR                0\n",
       "dtype: int64"
      ]
     },
     "execution_count": 45,
     "metadata": {},
     "output_type": "execute_result"
    }
   ],
   "source": [
    "df.isna().sum()"
   ]
  },
  {
   "cell_type": "code",
   "execution_count": 46,
   "metadata": {},
   "outputs": [
    {
     "data": {
      "text/plain": [
       "UOR_DESC         string\n",
       "CRIME_TYPE       string\n",
       "UCR_HIERARCHY    string\n",
       "ATT_COMP         string\n",
       "LMPD_DIVISION    string\n",
       "PREMISE_TYPE     string\n",
       "BLOCK_ADDRESS    string\n",
       "CITY             string\n",
       "ZIP_CODE         object\n",
       "DIFF_TIME_MIN     Int64\n",
       "YEAR              Int64\n",
       "MONTH             Int64\n",
       "HOUR              Int64\n",
       "dtype: object"
      ]
     },
     "execution_count": 46,
     "metadata": {},
     "output_type": "execute_result"
    }
   ],
   "source": [
    "df.convert_dtypes().dtypes"
   ]
  },
  {
   "cell_type": "code",
   "execution_count": 64,
   "metadata": {},
   "outputs": [
    {
     "data": {
      "text/plain": [
       "array([40213.0, 40205.0, 40299.0, 40219.0, 40258.0, 40203.0, 40215.0,\n",
       "       40211.0, 40208.0, 40220.0, 40291.0, 40228.0, 40217.0, 40204.0,\n",
       "       40212.0, 40272.0, 40229.0, 40214.0, 40206.0, 40216.0, 40056.0,\n",
       "       40245.0, 40210.0, 40207.0, 40202.0, 40218.0, 40222.0, 40118.0,\n",
       "       40242.0, 40241.0, 40243.0, 40223.0, 40225.0, 40059.0, 40209.0,\n",
       "       40023.0, 40025.0, 40177.0, 42101.0, 40014.0, 40047.0, 70517.0,\n",
       "       40442.0, 48174.0, 47130.0, '40212', '40210', '40291', '40203',\n",
       "       '40299', '40216', '40219', '40213', '40228', '40214', '40202',\n",
       "       '40218', '40211', '40222', '40217', '40258', '40272', '40209',\n",
       "       '40229', '40208', '40220', '40243', '40215', '40206', '40241',\n",
       "       '40205', '40204', '40118', '40242', '40223', '40207', '40056',\n",
       "       '40245', '20906', '40059', '33177', '28391', '40023', '40225',\n",
       "       '77070', '47150', '40177', '40025', '40067', '95794', '46804',\n",
       "       '40109', '40421', '40165', '40407', '40014', '40403', '40047',\n",
       "       '38125', '59833', '11239', '40045', 40102.0, 40324.0, 40165.0,\n",
       "       10215.0, 944091.0, 47112.0, 66209.0, 4015.0, 40408.0, 48226.0,\n",
       "       40145.0, 42141.0, 40601.0, 40010.0, '40906', '4008', '40201',\n",
       "       '1413', '40621', '40330', 40004.0, 40227.0, 46845.0, 40126.0,\n",
       "       40071.0, 40201.0, 40028.0, 40141.0, 40046.0, 40119.0], dtype=object)"
      ]
     },
     "execution_count": 64,
     "metadata": {},
     "output_type": "execute_result"
    }
   ],
   "source": [
    "df.ZIP_CODE.unique()"
   ]
  },
  {
   "cell_type": "code",
   "execution_count": 53,
   "metadata": {},
   "outputs": [],
   "source": [
    "zipc = ['`', ':NOR', 1.0, 'U', 50.0]\n",
    "df.loc[df.ZIP_CODE.isin(zipc), [\"ZIP_CODE\"]] = np.nan"
   ]
  },
  {
   "cell_type": "code",
   "execution_count": 65,
   "metadata": {},
   "outputs": [
    {
     "data": {
      "text/plain": [
       "40214.0    20811\n",
       "40211.0    18436\n",
       "40203.0    18365\n",
       "40219.0    17066\n",
       "40215.0    13547\n",
       "           ...  \n",
       "38125          1\n",
       "59833          1\n",
       "40045          1\n",
       "40102.0        1\n",
       "40119.0        1\n",
       "Name: ZIP_CODE, Length: 132, dtype: int64"
      ]
     },
     "execution_count": 65,
     "metadata": {},
     "output_type": "execute_result"
    }
   ],
   "source": [
    "df.ZIP_CODE.value_counts()"
   ]
  },
  {
   "cell_type": "code",
   "execution_count": 63,
   "metadata": {},
   "outputs": [],
   "source": [
    "df.loc[df.ZIP_CODE.isna(), ['ZIP_CODE']] = df.ZIP_CODE.median()"
   ]
  },
  {
   "cell_type": "code",
   "execution_count": 66,
   "metadata": {},
   "outputs": [],
   "source": [
    "cols = [\"CRIME_TYPE\", \"UCR_HIERARCHY\", \"ATT_COMP\", \"LMPD_DIVISION\", \"YEAR\", \"MONTH\"]\n",
    "for col in cols:\n",
    "    df[col] = df[col].astype('category')"
   ]
  },
  {
   "cell_type": "code",
   "execution_count": 67,
   "metadata": {},
   "outputs": [
    {
     "name": "stdout",
     "output_type": "stream",
     "text": [
      "<class 'pandas.core.frame.DataFrame'>\n",
      "Int64Index: 403686 entries, 0 to 403705\n",
      "Data columns (total 13 columns):\n",
      " #   Column         Non-Null Count   Dtype   \n",
      "---  ------         --------------   -----   \n",
      " 0   UOR_DESC       403686 non-null  object  \n",
      " 1   CRIME_TYPE     403686 non-null  category\n",
      " 2   UCR_HIERARCHY  403686 non-null  category\n",
      " 3   ATT_COMP       403686 non-null  category\n",
      " 4   LMPD_DIVISION  403686 non-null  category\n",
      " 5   PREMISE_TYPE   403686 non-null  object  \n",
      " 6   BLOCK_ADDRESS  403686 non-null  object  \n",
      " 7   CITY           403686 non-null  object  \n",
      " 8   ZIP_CODE       403686 non-null  object  \n",
      " 9   DIFF_TIME_MIN  403686 non-null  float64 \n",
      " 10  YEAR           403686 non-null  category\n",
      " 11  MONTH          403686 non-null  category\n",
      " 12  HOUR           403686 non-null  float64 \n",
      "dtypes: category(6), float64(2), object(5)\n",
      "memory usage: 27.0+ MB\n"
     ]
    }
   ],
   "source": [
    "df.info()"
   ]
  },
  {
   "cell_type": "code",
   "execution_count": 68,
   "metadata": {},
   "outputs": [],
   "source": [
    "df[\"DAY_RANGE\"] = pd.cut(df['HOUR'], bins=[-1, 12, 24], labels=[\"PRENOON\", \"AFTERNOON\"])"
   ]
  },
  {
   "cell_type": "code",
   "execution_count": 69,
   "metadata": {},
   "outputs": [],
   "source": [
    "df.drop([\"HOUR\"], axis=1, inplace=True)"
   ]
  },
  {
   "cell_type": "code",
   "execution_count": 70,
   "metadata": {},
   "outputs": [],
   "source": [
    "df.to_csv(\"Crime_clean.csv\", index=False)"
   ]
  },
  {
   "cell_type": "code",
   "execution_count": null,
   "metadata": {},
   "outputs": [],
   "source": []
  }
 ],
 "metadata": {
  "interpreter": {
   "hash": "8b03d4cd05d71d535371b426da57de743181e37d8974a9636efe6e78873daaed"
  },
  "kernelspec": {
   "display_name": "Python 3.9.6 64-bit",
   "name": "python3"
  },
  "language_info": {
   "codemirror_mode": {
    "name": "ipython",
    "version": 3
   },
   "file_extension": ".py",
   "mimetype": "text/x-python",
   "name": "python",
   "nbconvert_exporter": "python",
   "pygments_lexer": "ipython3",
   "version": "3.9.6"
  },
  "orig_nbformat": 4
 },
 "nbformat": 4,
 "nbformat_minor": 2
}
